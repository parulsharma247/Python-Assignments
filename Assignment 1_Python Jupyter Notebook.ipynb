{
 "cells": [
  {
   "cell_type": "markdown",
   "metadata": {},
   "source": [
    "# Task 1"
   ]
  },
  {
   "cell_type": "code",
   "execution_count": 8,
   "metadata": {},
   "outputs": [
    {
     "name": "stdout",
     "output_type": "stream",
     "text": [
      "Output of Task_1, Problem_statement_1 is = [2002, 2009, 2016, 2023, 2037, 2044, 2051, 2058, 2072, 2079, 2086, 2093, 2107, 2114, 2121, 2128, 2142, 2149, 2156, 2163, 2177, 2184, 2191, 2198, 2212, 2219, 2226, 2233, 2247, 2254, 2261, 2268, 2282, 2289, 2296, 2303, 2317, 2324, 2331, 2338, 2352, 2359, 2366, 2373, 2387, 2394, 2401, 2408, 2422, 2429, 2436, 2443, 2457, 2464, 2471, 2478, 2492, 2499, 2506, 2513, 2527, 2534, 2541, 2548, 2562, 2569, 2576, 2583, 2597, 2604, 2611, 2618, 2632, 2639, 2646, 2653, 2667, 2674, 2681, 2688, 2702, 2709, 2716, 2723, 2737, 2744, 2751, 2758, 2772, 2779, 2786, 2793, 2807, 2814, 2821, 2828, 2842, 2849, 2856, 2863, 2877, 2884, 2891, 2898, 2912, 2919, 2926, 2933, 2947, 2954, 2961, 2968, 2982, 2989, 2996, 3003, 3017, 3024, 3031, 3038, 3052, 3059, 3066, 3073, 3087, 3094, 3101, 3108, 3122, 3129, 3136, 3143, 3157, 3164, 3171, 3178, 3192, 3199]\n"
     ]
    }
   ],
   "source": [
    "''' 1. Problem statement\n",
    "Write a program which will find all such numbers which are divisible by 7 but are not a multiple of 5, between 2000 and\n",
    "3200 (both included). The numbers obtained should be printed in a comma-separated sequence on a single line'''\n",
    "\n",
    "def program_1():\n",
    "    required_numbers = []\n",
    "    print('Output of Task_1, Problem_statement_1 is = ', end='')\n",
    "    for no in range(2000, 3200):\n",
    "        if no % 7 == 0 and no % 5 != 0:\n",
    "            required_numbers.append(no)\n",
    "\n",
    "    return required_numbers\n",
    "\n",
    "\n",
    "print(program_1())"
   ]
  },
  {
   "cell_type": "code",
   "execution_count": 9,
   "metadata": {},
   "outputs": [
    {
     "name": "stdout",
     "output_type": "stream",
     "text": [
      "\n",
      "Output of Task_1, Problem_statement_2 starts from here \n",
      "Enter your first name Parul\n",
      "Enter your last name Sharma\n",
      "Your name is reverse order is:  luraP amrahS\n",
      " or Your name is reverse order is: amrahS luraP\n"
     ]
    }
   ],
   "source": [
    "'''2. Problem statement\n",
    "Write a Python program to accept the user's first and last name and then getting them printed in the the reverse order\n",
    "with a space between first name and last name.\n",
    "'''\n",
    "\n",
    "\n",
    "def reverse_user_input():\n",
    "    print('')  # Just giving a line gap between outputs of 2 programs as no functional use\n",
    "    print('Output of Task_1, Problem_statement_2 starts from here ')\n",
    "    first_name = input(\"Enter your first name \")\n",
    "    last_name = input(\"Enter your last name \")\n",
    "    print(f\"Your name is reverse order is:  {first_name[::-1]} {(last_name)[::-1]}\")\n",
    "    # or\n",
    "    print(f\" or Your name is reverse order is: {(last_name)[::-1]} {first_name[::-1]}\")\n",
    "\n",
    "\n",
    "reverse_user_input()"
   ]
  },
  {
   "cell_type": "code",
   "execution_count": 10,
   "metadata": {},
   "outputs": [
    {
     "name": "stdout",
     "output_type": "stream",
     "text": [
      "\n",
      "Output of Task_1, Problem_statement_3 starts from here \n",
      "Volume of sphere having diameter 12cm is 904.7786842338603cm\n"
     ]
    }
   ],
   "source": [
    "'''3. Problem statement\n",
    "Write a Python program to find the volume of a sphere with diameter 12 cm. Formula: V=4/3 * π * r 3\n",
    "'''\n",
    "import math\n",
    "\n",
    "\n",
    "def volume_of_sphere():\n",
    "    diameter = 12\n",
    "    radius = diameter / 2\n",
    "    pi = math.pi\n",
    "    sphere_volume = (4 / 3) * pi * (radius ** 3)\n",
    "    return sphere_volume\n",
    "\n",
    "print('')\n",
    "print('Output of Task_1, Problem_statement_3 starts from here ')\n",
    "print(f'Volume of sphere having diameter 12cm is {volume_of_sphere()}cm')"
   ]
  },
  {
   "cell_type": "markdown",
   "metadata": {},
   "source": [
    "# Task 2"
   ]
  },
  {
   "cell_type": "code",
   "execution_count": 11,
   "metadata": {},
   "outputs": [
    {
     "name": "stdout",
     "output_type": "stream",
     "text": [
      "\n",
      "Output of Task_2, Problem_statement_1 starts from here \n",
      "Enter any sequence seperated by commas: hi, my, name,is\n",
      " data type of user input is <class 'list'> and list is ['hi', ' my', ' name', 'is']\n"
     ]
    }
   ],
   "source": [
    "''' 1. Problem statement\n",
    "Write a program which accepts a sequence of comma-separated numbers from console and generate a list.\n",
    "'''\n",
    "\n",
    "\n",
    "def user_ip_to_list():\n",
    "    print('')  # Just giving a line gap between outputs of 2 programs as no functional use\n",
    "    print('Output of Task_2, Problem_statement_1 starts from here ')\n",
    "    user_input = input('Enter any sequence seperated by commas: ')\n",
    "    user_input = user_input.split(',')\n",
    "    print(f' data type of user input is {type(user_input)} and list is {user_input}')\n",
    "\n",
    "\n",
    "user_ip_to_list()"
   ]
  },
  {
   "cell_type": "code",
   "execution_count": 12,
   "metadata": {},
   "outputs": [
    {
     "name": "stdout",
     "output_type": "stream",
     "text": [
      "\n",
      "Output of Task_2, Problem_statement_2 by Method_1 starts from here \n",
      "*\n",
      "**\n",
      "***\n",
      "****\n",
      "*****\n",
      "****\n",
      "***\n",
      "**\n",
      "*\n"
     ]
    }
   ],
   "source": [
    "''' 2. Problem Statement\n",
    "Create the below pattern using nested for loop in Python.\n",
    "*\n",
    "* *\n",
    "* * *\n",
    "* * * *\n",
    "* * * * *\n",
    "* * * *\n",
    "* * *\n",
    "* *\n",
    "*\n",
    "'''\n",
    "\n",
    "\n",
    "# Method 1 using nested for loop\n",
    "def pattern_using_nested_for():\n",
    "    print('')\n",
    "    print('Output of Task_2, Problem_statement_2 by Method_1 starts from here ')\n",
    "    for i in range(1, 6):\n",
    "        for j in range(0, i):\n",
    "            print('*', end=\"\")\n",
    "        print('')\n",
    "        if i == 5:\n",
    "            while i > 1:\n",
    "                i -= 1\n",
    "                print('*' * i)\n",
    "                continue\n",
    "\n",
    "\n",
    "pattern_using_nested_for()"
   ]
  },
  {
   "cell_type": "code",
   "execution_count": 13,
   "metadata": {},
   "outputs": [
    {
     "name": "stdout",
     "output_type": "stream",
     "text": [
      "\n",
      "Output of Task_2, Problem_statement_2 Method_2 starts from here \n",
      "*\n",
      "**\n",
      "***\n",
      "****\n",
      "*****\n",
      "****\n",
      "***\n",
      "**\n",
      "*\n"
     ]
    }
   ],
   "source": [
    "# Method 2 using without nested for loop\n",
    "\n",
    "def pattern_wo_nested_for():\n",
    "    print('')\n",
    "    print('Output of Task_2, Problem_statement_2 Method_2 starts from here ')\n",
    "    pattern_format = '*'\n",
    "    for no in range(1, 7):\n",
    "        if no <= 5:\n",
    "            print(no * pattern_format)\n",
    "            no += 1\n",
    "        else:\n",
    "            no -= 1\n",
    "            while no > 1:\n",
    "                no -= 1\n",
    "                print(no * pattern_format)\n",
    "                continue\n",
    "    return\n",
    "\n",
    "\n",
    "pattern_wo_nested_for()"
   ]
  },
  {
   "cell_type": "code",
   "execution_count": 14,
   "metadata": {},
   "outputs": [
    {
     "name": "stdout",
     "output_type": "stream",
     "text": [
      "\n",
      "Output of Task_2, Problem_statement_3 starts from here \n",
      "Enter any input: Parul\n",
      "Input word: Parul\n",
      "Output: luraP\n"
     ]
    }
   ],
   "source": [
    "''' 3. Problem Statement\n",
    "Write a Python program to reverse a word after accepting the input from the user.\n",
    "'''\n",
    "\n",
    "\n",
    "def reverse_input_word():\n",
    "    print('')\n",
    "    print('Output of Task_2, Problem_statement_3 starts from here ')\n",
    "    user_input = input('Enter any input: ')\n",
    "    print(f'Input word: {user_input}')\n",
    "    user_output = user_input[::-1]\n",
    "    print(f'Output: {user_output}')\n",
    "\n",
    "\n",
    "reverse_input_word()\n"
   ]
  },
  {
   "cell_type": "code",
   "execution_count": null,
   "metadata": {},
   "outputs": [],
   "source": []
  }
 ],
 "metadata": {
  "kernelspec": {
   "display_name": "Python 3",
   "language": "python",
   "name": "python3"
  },
  "language_info": {
   "codemirror_mode": {
    "name": "ipython",
    "version": 3
   },
   "file_extension": ".py",
   "mimetype": "text/x-python",
   "name": "python",
   "nbconvert_exporter": "python",
   "pygments_lexer": "ipython3",
   "version": "3.8.2"
  }
 },
 "nbformat": 4,
 "nbformat_minor": 4
}
