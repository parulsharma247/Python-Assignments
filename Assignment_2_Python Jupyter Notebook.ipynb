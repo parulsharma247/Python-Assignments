{
 "cells": [
  {
   "cell_type": "code",
   "execution_count": 3,
   "metadata": {},
   "outputs": [
    {
     "name": "stdout",
     "output_type": "stream",
     "text": [
      "25\n"
     ]
    }
   ],
   "source": [
    "# Task 1:\n",
    "'''\n",
    "Ques 1.1\n",
    "Write a Python Program to implement your own myreduce() function which works exactly like Python's built-in function\n",
    "reduce()\n",
    "\n",
    "Solution\n",
    "syntax of reduce() function is -> reduce(function, iterable, integer_value)\n",
    "'''\n",
    "my_list = [1, 2, 3, 4, 5]\n",
    "\n",
    "\n",
    "def my_reduce(accumulator_func, user_list, initial_count):\n",
    "    list_iterable = iter(user_list)\n",
    "    accum_value = initial_count\n",
    "    for x in list_iterable:\n",
    "        # print(x, accum_value) -> to check the working of the program\n",
    "        accum_value = accumulator_func(accum_value, x)\n",
    "    return accum_value\n",
    "\n",
    "\n",
    "def accumulator(acc, item):\n",
    "    return acc + item\n",
    "\n",
    "\n",
    "print(my_reduce(accumulator, my_list, 10))"
   ]
  },
  {
   "cell_type": "code",
   "execution_count": 4,
   "metadata": {},
   "outputs": [
    {
     "name": "stdout",
     "output_type": "stream",
     "text": [
      "[1, 3, 5, 7, 9]\n"
     ]
    }
   ],
   "source": [
    "''' Question 1.2\n",
    "Write a Python program to implement your own myfilter() function which works exactly like Python's built-in function \n",
    "filter()\n",
    "\n",
    "Solution\n",
    "syntax of filter() function is filter(function, iterable)\n",
    "'''\n",
    "\n",
    "\n",
    "def my_filter(function, user_list):\n",
    "    required_output = function(user_list)\n",
    "    return required_output\n",
    "\n",
    "\n",
    "my_list_2 = list(range(0, 10))\n",
    "my_list_3 = []\n",
    "\n",
    "\n",
    "def only_odd(items_list):\n",
    "    for no in items_list:\n",
    "        if no % 2 != 0:\n",
    "            my_list_3.append(no)\n",
    "    return my_list_3\n",
    "\n",
    "\n",
    "print(my_filter(only_odd, my_list_2))"
   ]
  },
  {
   "cell_type": "code",
   "execution_count": 5,
   "metadata": {},
   "outputs": [
    {
     "name": "stdout",
     "output_type": "stream",
     "text": [
      "['A', 'C', 'A', 'D', 'G', 'I', 'L', 'D']\n",
      "['x', 'xx', 'xxx', 'xxxx', 'y', 'yy', 'yyy', 'yyyy', 'z', 'zz', 'zzz', 'zzzz']\n",
      "['x', 'y', 'z', 'xx', 'yy', 'zz', 'xxx', 'yyy', 'zzz', 'xxxx', 'yyyy', 'zzzz']\n",
      "[[2], [3], [4], [3], [4], [5], [4], [5], [6]]\n",
      "[[2, 3, 4, 5], [3, 4, 5, 6], [4, 5, 6, 7], [5, 6, 7, 8]]\n",
      "[(1, 1), (2, 1), (3, 1), (1, 2), (2, 2), (3, 2), (1, 3), (2, 3), (3, 3)]\n"
     ]
    }
   ],
   "source": [
    "''' Question 2\n",
    "Write List comprehensions to produce the following Lists\n",
    "['A', 'C', 'A', 'D', 'G', 'I', ’L’, ‘ D’]\n",
    "['x', 'xx', 'xxx', 'xxxx', 'y', 'yy', 'yyy', 'yyyy', 'z', 'zz', 'zzz', 'zzzz']\n",
    "['x', 'y', 'z', 'xx', 'yy', 'zz', 'xx', 'yy', 'zz', 'xxxx', 'yyyy', 'zzzz']\n",
    "[[2], [3], [4], [3], [4], [5], [4], [5], [6]]\n",
    "[[2, 3, 4, 5], [3, 4, 5, 6], [4, 5, 6, 7], [5, 6, 7, 8]]\n",
    "[(1, 1), (2, 1), (3, 1), (1, 2), (2, 2), (3, 2), (1, 3), (2, 3), (3, 3)]\n",
    "\n",
    "Solution\n",
    "'''\n",
    "\n",
    "\n",
    "def list_comprehensions():\n",
    "    variable_value = [character for character in 'ACADGILD']\n",
    "    print(variable_value)\n",
    "\n",
    "    input_list_1 = ['x', 'y', 'z']\n",
    "    variable_1_value = [alphabet * value for alphabet in input_list_1 for value in range(1, 5)]\n",
    "    print(variable_1_value)\n",
    "\n",
    "    input_list_2 = ['x', 'y', 'z']\n",
    "    variable_2_value = [alphabet * value for value in range(1, 5) for alphabet in input_list_2]\n",
    "    print(variable_2_value)\n",
    "\n",
    "    input_list_3 = [2, 3, 4]\n",
    "    variable_3_value = [[no + value] for no in input_list_3 for value in range(0, 3)]\n",
    "    print(variable_3_value)\n",
    "\n",
    "    input_list_4 = [2, 3, 4, 5]\n",
    "    variable_4_value = [[no + value for no in input_list_4] for value in range(0, 4)]\n",
    "    print(variable_4_value)\n",
    "\n",
    "    # [(1, 1), (2, 1), (3, 1), (1, 2), (2, 2), (3, 2), (1, 3), (2, 3), (3, 3)]\n",
    "    input_list_5 = [1, 2, 3]\n",
    "    variable_5_value = [(no2, no1) for no1 in input_list_5 for no2 in input_list_5]\n",
    "    print(variable_5_value)\n",
    "\n",
    "\n",
    "list_comprehensions()"
   ]
  },
  {
   "cell_type": "code",
   "execution_count": 6,
   "metadata": {},
   "outputs": [
    {
     "name": "stdout",
     "output_type": "stream",
     "text": [
      "Sharma\n"
     ]
    }
   ],
   "source": [
    "''' Question 3\n",
    "Implement a function longestWord() that takes a list of words and returns the longest one.\n",
    "\n",
    "Solution\n",
    "'''\n",
    "\n",
    "\n",
    "def longest_word(user_words_list):\n",
    "    word_length = 0\n",
    "    for word in user_words_list:\n",
    "        if len(word) > word_length:\n",
    "            word_length = len(word)\n",
    "            longest_word = word\n",
    "    return longest_word\n",
    "\n",
    "\n",
    "my_words_list = ['Hello', 'my', 'name', 'is', 'Parul', 'Sharma']\n",
    "print(longest_word(my_words_list))"
   ]
  },
  {
   "cell_type": "code",
   "execution_count": 8,
   "metadata": {},
   "outputs": [
    {
     "name": "stdout",
     "output_type": "stream",
     "text": [
      "Enter the length of side 1: 8\n",
      "Enter the length of side 2: 10\n",
      "Enter the length of side 3: 6\n",
      "Area of the triangle is 24.0\n"
     ]
    }
   ],
   "source": [
    "'''Task 2:\n",
    "Question 1.1\n",
    "Write a Python Program(with class concepts) to find the area of the triangle using the below formula.\n",
    "    area = (s*(s-a)*(s-b)*(s-c)) ** 0.5\n",
    "Function to take the length of the sides of triangle from user should be defined in the parent class and function to \n",
    "calculate the area should be defined in subclass\n",
    "\n",
    "Solution \n",
    "'''\n",
    "\n",
    "\n",
    "class LengthOfSides:  # parent class\n",
    "    def __init__(self):\n",
    "        self.side_1 = int(input(\"Enter the length of side 1: \"))\n",
    "        self.side_2 = int(input(\"Enter the length of side 2: \"))\n",
    "        self.side_3 = int(input(\"Enter the length of side 3: \"))\n",
    "\n",
    "\n",
    "class AreaOfTriangle(LengthOfSides):\n",
    "    def area_calculation(self):\n",
    "        semi_peri = (self.side_1 + self.side_2 + self.side_3) / 2\n",
    "        # print(semi_peri)\n",
    "        area = (semi_peri * (semi_peri - self.side_1) * (semi_peri - self.side_2) * (semi_peri - self.side_3)) ** 0.5\n",
    "        print(f'Area of the triangle is {area}')\n",
    "\n",
    "\n",
    "area_of_triangle_obj = AreaOfTriangle()\n",
    "area_of_triangle_obj.area_calculation()"
   ]
  },
  {
   "cell_type": "code",
   "execution_count": 9,
   "metadata": {},
   "outputs": [
    {
     "name": "stdout",
     "output_type": "stream",
     "text": [
      "['Parul', 'Sharma']\n"
     ]
    }
   ],
   "source": [
    "'''Question 1.2\n",
    "Write a function filter_long_words() that takes a list of words and an integer n and returns the list of words that are \n",
    "longer than n.\n",
    "\n",
    "Solution\n",
    "'''\n",
    "\n",
    "\n",
    "def filter_long_words(word_list, integer_n):\n",
    "    new_word_list = []\n",
    "    for word in word_list:\n",
    "        if len(word) > integer_n:\n",
    "            new_word_list.append(word)\n",
    "    return new_word_list\n",
    "\n",
    "\n",
    "word_list = ['hi', 'my', 'name', 'is', 'Parul', 'Sharma']\n",
    "max_word_length = 4\n",
    "print(filter_long_words(word_list, max_word_length))"
   ]
  },
  {
   "cell_type": "code",
   "execution_count": 10,
   "metadata": {},
   "outputs": [
    {
     "name": "stdout",
     "output_type": "stream",
     "text": [
      "[2, 3, 4]\n"
     ]
    }
   ],
   "source": [
    "''' Question 2.1\n",
    "Write a Python program using function concept that maps list of words into a list of integers representing the lengths \n",
    "of the corresponding words.\n",
    "Hint: If a list [ ab,cde,erty] is passed on to the python function output should come as [2,3,4]. Here 2,3 and 4 are \n",
    "the lengths of the words in the list.\n",
    "\n",
    "Solution\n",
    "'''\n",
    "\n",
    "\n",
    "def word_length_map_function():\n",
    "    word_list = ['ab', 'cde', 'erty']\n",
    "    length_words = []\n",
    "    for word in word_list:\n",
    "        length_words.append(len(word))\n",
    "    return length_words\n",
    "\n",
    "\n",
    "print(word_length_map_function())"
   ]
  },
  {
   "cell_type": "code",
   "execution_count": 11,
   "metadata": {},
   "outputs": [
    {
     "name": "stdout",
     "output_type": "stream",
     "text": [
      "False\n",
      "False\n",
      "False\n",
      "False\n",
      "False\n",
      "False\n",
      "False\n",
      "True\n",
      "True\n"
     ]
    }
   ],
   "source": [
    "'''\n",
    "2.2\n",
    "Write a Python function which takes a character (i.e. a string of length 1) and returns True if it is\n",
    "a vowel, False otherwise.\n",
    "'''\n",
    "\n",
    "\n",
    "def vowel_finder():\n",
    "    vowels = ['a', 'e', 'i', 'o', 'u', 'A', 'E', 'I', 'O', 'U']\n",
    "    character_string = ['q', 'w', 'r', 't', 'y', 's', 'z', 'a', 'e']\n",
    "    for character in character_string:\n",
    "        if character in vowels:\n",
    "            print(True)\n",
    "        else:\n",
    "            print(False)\n",
    "\n",
    "\n",
    "vowel_finder()"
   ]
  },
  {
   "cell_type": "code",
   "execution_count": null,
   "metadata": {},
   "outputs": [],
   "source": []
  }
 ],
 "metadata": {
  "kernelspec": {
   "display_name": "Python 3",
   "language": "python",
   "name": "python3"
  },
  "language_info": {
   "codemirror_mode": {
    "name": "ipython",
    "version": 3
   },
   "file_extension": ".py",
   "mimetype": "text/x-python",
   "name": "python",
   "nbconvert_exporter": "python",
   "pygments_lexer": "ipython3",
   "version": "3.8.2"
  }
 },
 "nbformat": 4,
 "nbformat_minor": 4
}
