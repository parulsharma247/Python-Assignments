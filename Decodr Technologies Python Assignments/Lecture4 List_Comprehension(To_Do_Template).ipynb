{
  "nbformat": 4,
  "nbformat_minor": 0,
  "metadata": {
    "kernelspec": {
      "display_name": "Python 3",
      "language": "python",
      "name": "python3"
    },
    "language_info": {
      "codemirror_mode": {
        "name": "ipython",
        "version": 3
      },
      "file_extension": ".py",
      "mimetype": "text/x-python",
      "name": "python",
      "nbconvert_exporter": "python",
      "pygments_lexer": "ipython3",
      "version": "3.7.6"
    },
    "colab": {
      "name": "List_Comprehension(To-Do Template).ipynb",
      "provenance": [],
      "toc_visible": true
    }
  },
  "cells": [
    {
      "cell_type": "markdown",
      "metadata": {
        "id": "XPbfgvhK2vCz",
        "colab_type": "text"
      },
      "source": [
        "# List Comprehensions"
      ]
    },
    {
      "cell_type": "markdown",
      "metadata": {
        "id": "sEvw-OZt2vC4",
        "colab_type": "text"
      },
      "source": [
        ">## Objective: \n",
        "\n",
        "To understand the working of lists comprehensions and implement it using five different examples "
      ]
    },
    {
      "cell_type": "markdown",
      "metadata": {
        "id": "gKPQz7bw2vC7",
        "colab_type": "text"
      },
      "source": [
        "### List comprehensions"
      ]
    },
    {
      "cell_type": "markdown",
      "metadata": {
        "id": "2SR2SWhO2vC9",
        "colab_type": "text"
      },
      "source": [
        "List comprehensions are used for creating new lists from other iterables.\n",
        "\n",
        "As list comprehensions return lists, they consist of brackets containing the expression, which is executed for each element along with the `for loop` to iterate over each element.\n",
        "\n",
        "The basic syntax is :\n",
        "\n",
        "     new_list = [expression for_loop_one_or_more conditions]\n",
        "\n",
        "where , \n",
        "\n",
        "**new_list** : The resulting list.\n",
        "\n",
        "**expression** : The operation performed whenever an element fulfills the given condition. The result of this expression is stored in **new_list**\n",
        "\n",
        "**for element** in old_list : Iterates over each element in old_list\n",
        "\n",
        "**if condition** : Apply a condition using an If-statement."
      ]
    },
    {
      "cell_type": "markdown",
      "metadata": {
        "id": "9NSXUncF2vC_",
        "colab_type": "text"
      },
      "source": [
        "<img src=\"https://4.bp.blogspot.com/-uRPZqKbIGwQ/XRtgWhC6qqI/AAAAAAAAH0w/--oGnwKsnpo00GwQgH2gV3RPwHwK8uONgCLcBGAs/s1600/comprehension.PNG\">"
      ]
    },
    {
      "cell_type": "markdown",
      "metadata": {
        "id": "WNVmv5vc2vDD",
        "colab_type": "text"
      },
      "source": [
        "This is very similar to the set builder form in mathematics,\n",
        "\n",
        "**In Set-Builder Forms** :\n",
        "\n",
        "- { x^2: x is a natural number less than 10 }\n",
        "- { x: x is a whole number less than 20, x is even }\n",
        "- { x: x is an alphabet in word ‘MATHEMATICS’, x is a vowel }\n"
      ]
    },
    {
      "cell_type": "code",
      "metadata": {
        "id": "OucObjvA2vDG",
        "colab_type": "code",
        "colab": {},
        "outputId": "4d226c96-8f9a-4a08-cf7d-6ff177098a75"
      },
      "source": [
        "# The same thing when coded as Lists Comprehensions would be : \n",
        "\n",
        "list1 = [x^2 for x in range(0,10)]\n",
        "list2 = [x for x in range(1,20) if x%2==0]\n",
        "list3 = [x for x in 'MATHEMATICS' if x in ['A','E','I','O','U']]\n",
        "\n",
        "print(list1)\n",
        "print(list2)\n",
        "print(list3)"
      ],
      "execution_count": null,
      "outputs": [
        {
          "output_type": "stream",
          "text": [
            "[2, 3, 0, 1, 6, 7, 4, 5, 10, 11]\n",
            "[2, 4, 6, 8, 10, 12, 14, 16, 18]\n",
            "['A', 'E', 'A', 'I']\n"
          ],
          "name": "stdout"
        }
      ]
    },
    {
      "cell_type": "markdown",
      "metadata": {
        "id": "-xscDdXw2vDf",
        "colab_type": "text"
      },
      "source": [
        "Now that the syntax and working is understood. you'll implement it with the help of examples to get a good grip on this. Lists comprehensions when used properly is a very powerful tool which saves both computing time and amount of code written"
      ]
    },
    {
      "cell_type": "markdown",
      "metadata": {
        "id": "V_VxoSrv2vDi",
        "colab_type": "text"
      },
      "source": [
        "### Example 1 : \n",
        "\n",
        "To print the common numbers between two lists L1 and L2"
      ]
    },
    {
      "cell_type": "markdown",
      "metadata": {
        "id": "wKo0S-A42vDl",
        "colab_type": "text"
      },
      "source": [
        "**NOTE** : The syntax can be written as :\n",
        "\n",
        "     [ output_expression() for(set of values to iterate) if(conditional filtering) ]"
      ]
    },
    {
      "cell_type": "markdown",
      "metadata": {
        "id": "xWi44ZUb2vEA",
        "colab_type": "text"
      },
      "source": [
        "**TASK 1 : Given L1 and L2 , find the common elements using `for` loop (2 marks)**"
      ]
    },
    {
      "cell_type": "code",
      "metadata": {
        "id": "u0T122SK2vED",
        "colab_type": "code",
        "colab": {
          "base_uri": "https://localhost:8080/",
          "height": 34
        },
        "outputId": "ce0a493c-42a4-40da-bdae-418b75c927ab"
      },
      "source": [
        "\n",
        "L1 = [1, 2, 3, 4]\n",
        "L2 = [2, 3, 4, 5]\n",
        "\n",
        "## Remember to create an empty list first ,  in which you'll append the values\n",
        "common_no = []\n",
        "\n",
        "### START CODE HERE\n",
        "for no in L1:\n",
        "  if no in L2:\n",
        "    common_no.append(no)\n",
        "print(common_no)\n",
        "### END CODE"
      ],
      "execution_count": 1,
      "outputs": [
        {
          "output_type": "stream",
          "text": [
            "[2, 3, 4]\n"
          ],
          "name": "stdout"
        }
      ]
    },
    {
      "cell_type": "markdown",
      "metadata": {
        "id": "a3KNWuFA2vEO",
        "colab_type": "text"
      },
      "source": [
        "**TASK 2 : Now try the same thing with List Comprehensions (2 marks)**"
      ]
    },
    {
      "cell_type": "code",
      "metadata": {
        "id": "YNtH1rQB2vER",
        "colab_type": "code",
        "colab": {
          "base_uri": "https://localhost:8080/",
          "height": 34
        },
        "outputId": "e7448c12-e138-4f87-ed55-aa710d9aaefd"
      },
      "source": [
        "### START CODE HERE : (~1 Line of code)\n",
        "common_numbers = [no for no in L1 if no in L2]\n",
        "print(common_numbers)\n",
        "### END CODE"
      ],
      "execution_count": 15,
      "outputs": [
        {
          "output_type": "stream",
          "text": [
            "[2, 3, 4]\n"
          ],
          "name": "stdout"
        }
      ]
    },
    {
      "cell_type": "markdown",
      "metadata": {
        "id": "_ckUUE9W2vEg",
        "colab_type": "text"
      },
      "source": [
        "**Analyse how convenient list comprehensions is compared to writing functions both in simplicity and computational time**"
      ]
    },
    {
      "cell_type": "markdown",
      "metadata": {
        "id": "OaUxHZOC2vEj",
        "colab_type": "text"
      },
      "source": [
        "### Example 2 : "
      ]
    },
    {
      "cell_type": "markdown",
      "metadata": {
        "id": "DUAj4UMe2vEm",
        "colab_type": "text"
      },
      "source": [
        "To print squares of even numbers and cubes of odd numbers from a list `L = [1,2,3,4,5,6,7,8,9,10]` "
      ]
    },
    {
      "cell_type": "markdown",
      "metadata": {
        "id": "5LV6GTYx2vEo",
        "colab_type": "text"
      },
      "source": [
        "**TASK 3 : Create the list `L` given above using list comprehensions and range function (2 marks)**"
      ]
    },
    {
      "cell_type": "code",
      "metadata": {
        "id": "HKeIRzfy2vEr",
        "colab_type": "code",
        "colab": {
          "base_uri": "https://localhost:8080/",
          "height": 34
        },
        "outputId": "785ee870-f470-48f0-a9d9-d63a83b22369"
      },
      "source": [
        "### START CODE HERE : (~1 line of code)\n",
        "L = [no for no in range(1,11)]\n",
        "print(L)\n",
        "### END CODE"
      ],
      "execution_count": 13,
      "outputs": [
        {
          "output_type": "stream",
          "text": [
            "[1, 2, 3, 4, 5, 6, 7, 8, 9, 10]\n"
          ],
          "name": "stdout"
        }
      ]
    },
    {
      "cell_type": "markdown",
      "metadata": {
        "id": "VwQmtt1n2vE8",
        "colab_type": "text"
      },
      "source": [
        "**TASK 4 : Create a `for` loop and `if` condition to accomplish the task on the above created list (2 marks)**"
      ]
    },
    {
      "cell_type": "code",
      "metadata": {
        "id": "lp2q9L3L2vE-",
        "colab_type": "code",
        "colab": {
          "base_uri": "https://localhost:8080/",
          "height": 34
        },
        "outputId": "7a0d36d7-c750-4fb0-e6ed-94e2229ea4c5"
      },
      "source": [
        "## Remember to create an empty list first ,  in which you'll append the values\n",
        "output_number = []\n",
        "\n",
        "### START CODE HERE  :\n",
        "for no in range(1,11):\n",
        "  if no%2==0:\n",
        "    no_sq = no**2\n",
        "    output_number.append(no_sq)\n",
        "  else:\n",
        "    no_cube = no**3\n",
        "    output_number.append(no_cube)\n",
        "print(output_number)\n",
        "### END CODE"
      ],
      "execution_count": 16,
      "outputs": [
        {
          "output_type": "stream",
          "text": [
            "[1, 4, 27, 16, 125, 36, 343, 64, 729, 100]\n"
          ],
          "name": "stdout"
        }
      ]
    },
    {
      "cell_type": "markdown",
      "metadata": {
        "id": "sarNySIs2vFL",
        "colab_type": "text"
      },
      "source": [
        "**TASK 5 : Accomplish the same task using List Comprehensions (2 marks)**"
      ]
    },
    {
      "cell_type": "code",
      "metadata": {
        "id": "_Jdwi17R2vFO",
        "colab_type": "code",
        "colab": {
          "base_uri": "https://localhost:8080/",
          "height": 34
        },
        "outputId": "461e87ec-6709-4f6a-a927-ef29a4f35bf1"
      },
      "source": [
        "### START CODE HERE : (~1 Line of code)\n",
        "output_number = [no**2 if no%2==0 else no**3 for no in range(1,11) ]\n",
        "print(output_number)\n",
        "### END CODE"
      ],
      "execution_count": 10,
      "outputs": [
        {
          "output_type": "stream",
          "text": [
            "[1, 4, 27, 16, 125, 36, 343, 64, 729, 100]\n"
          ],
          "name": "stdout"
        }
      ]
    },
    {
      "cell_type": "markdown",
      "metadata": {
        "id": "T7oSGhfe2vFr",
        "colab_type": "text"
      },
      "source": [
        "### Example 3 : "
      ]
    },
    {
      "cell_type": "markdown",
      "metadata": {
        "id": "v-1e1GbF2vFu",
        "colab_type": "text"
      },
      "source": [
        "> #### Tuples\n",
        "\n",
        "To print out all ordered pairs between two lists as tuples. Use previously defined L1 and L2 for this"
      ]
    },
    {
      "cell_type": "markdown",
      "metadata": {
        "id": "D9IxcG0n2vFx",
        "colab_type": "text"
      },
      "source": [
        "**TASK 6 : Print out all odered pairs between L1 and L2 i.e (a,b) where a belongst to L1 and b to L2 (Cartesian Product) as tuples using comprehension (2 marks)**"
      ]
    },
    {
      "cell_type": "code",
      "metadata": {
        "id": "U1micbV82vFy",
        "colab_type": "code",
        "colab": {
          "base_uri": "https://localhost:8080/",
          "height": 34
        },
        "outputId": "0af797ae-3f4c-49c6-a21f-f7c8353e2990"
      },
      "source": [
        "L1 = [1, 2, 3, 4]\n",
        "L2 = [2, 3, 4, 5]\n",
        "\n",
        "### START CODE HERE : (~1 Line of code)\n",
        "ordered_pairs =  print(tuple(zip(L1, L2)))\n",
        "### END CODE"
      ],
      "execution_count": 33,
      "outputs": [
        {
          "output_type": "stream",
          "text": [
            "((1, 2), (2, 3), (3, 4), (4, 5))\n"
          ],
          "name": "stdout"
        }
      ]
    },
    {
      "cell_type": "code",
      "metadata": {
        "id": "xhb-34VzEEus",
        "colab_type": "code",
        "colab": {}
      },
      "source": [
        ""
      ],
      "execution_count": null,
      "outputs": []
    },
    {
      "cell_type": "markdown",
      "metadata": {
        "id": "YShTpeZd2vGA",
        "colab_type": "text"
      },
      "source": [
        "**Finally its imperative to understand that lists comprehensions is not only valid for lists but can also be used elsewhere, The below examples would give a better understanding of it**"
      ]
    },
    {
      "cell_type": "markdown",
      "metadata": {
        "id": "7kx8LVoJ2vGD",
        "colab_type": "text"
      },
      "source": [
        "### Example 4 : "
      ]
    },
    {
      "cell_type": "markdown",
      "metadata": {
        "id": "Q83jI_5k2vGM",
        "colab_type": "text"
      },
      "source": [
        "> #### Dictionaries"
      ]
    },
    {
      "cell_type": "markdown",
      "metadata": {
        "id": "SubWCuic2vGO",
        "colab_type": "text"
      },
      "source": [
        "**TASK 7 : Use lists `L_country` and `L_capital` to create a `dictionary` having L_country as keys and L_capital as values using comprehensions (2 marks)**"
      ]
    },
    {
      "cell_type": "code",
      "metadata": {
        "id": "LkEj0AjA2vGQ",
        "colab_type": "code",
        "colab": {
          "base_uri": "https://localhost:8080/",
          "height": 34
        },
        "outputId": "ea69be83-a521-4b41-d843-9e15fb2b6a19"
      },
      "source": [
        "L_country = ['India', 'Pakistan', 'Nepal', 'Bhutan', 'China', 'Bangladesh']\n",
        "L_capital = ['New Delhi', 'Islamabad','Kathmandu', 'Thimphu', 'Beijing', 'Dhaka']\n",
        "\n",
        "### START CODE HERE : (~1 Line of code)\n",
        "dictionary = print(dict(zip(L_country, L_capital)))\n",
        "### END CODE"
      ],
      "execution_count": 35,
      "outputs": [
        {
          "output_type": "stream",
          "text": [
            "{'India': 'New Delhi', 'Pakistan': 'Islamabad', 'Nepal': 'Kathmandu', 'Bhutan': 'Thimphu', 'China': 'Beijing', 'Bangladesh': 'Dhaka'}\n"
          ],
          "name": "stdout"
        }
      ]
    },
    {
      "cell_type": "markdown",
      "metadata": {
        "id": "xQYVVi_K2vGg",
        "colab_type": "text"
      },
      "source": [
        "### Example 5 :"
      ]
    },
    {
      "cell_type": "markdown",
      "metadata": {
        "id": "VPh-jAGo2vGi",
        "colab_type": "text"
      },
      "source": [
        "> #### Strings"
      ]
    },
    {
      "cell_type": "markdown",
      "metadata": {
        "id": "3NE4ZI4H2vGm",
        "colab_type": "text"
      },
      "source": [
        "Comprehensions can also be used to conveniently perform operations on strings"
      ]
    },
    {
      "cell_type": "markdown",
      "metadata": {
        "id": "TeOa3tWS2vGo",
        "colab_type": "text"
      },
      "source": [
        "**TASK 8: Do the following operations on string elements of a list `planets` using a single line of code/comprehension and then print the changed elements (3 marks)**\n",
        "\n",
        "**If planet's name length is less than 6 then ,**\n",
        "- Capitalise the whole word , using '.upper()'\n",
        "- Add '!' at the end of the word \n",
        "\n",
        "eg. venus should be 'VENUS!' "
      ]
    },
    {
      "cell_type": "code",
      "metadata": {
        "id": "jTKft0OI2vGs",
        "colab_type": "code",
        "colab": {
          "base_uri": "https://localhost:8080/",
          "height": 70
        },
        "outputId": "8d73a577-48a9-4ea1-e1d1-4d91a1e82022"
      },
      "source": [
        "planets = ['Mercury', 'Venus', 'Earth', 'Mars', 'Jupiter', 'Saturn', 'Uranus', 'Neptune']\n",
        "\n",
        "### START CODE HERE : (~1 Line of code)\n",
        "planet_name = [print(planet.upper()+'!') for planet in planets if len(planet)<6]\n",
        "### END CODE"
      ],
      "execution_count": 39,
      "outputs": [
        {
          "output_type": "stream",
          "text": [
            "VENUS!\n",
            "EARTH!\n",
            "MARS!\n"
          ],
          "name": "stdout"
        }
      ]
    },
    {
      "cell_type": "markdown",
      "metadata": {
        "id": "eof1Dk4f2vG3",
        "colab_type": "text"
      },
      "source": [
        "#### Transpose of Matrix using Nested Loops\n",
        "\n",
        "**TASK 9 : Do the following operation on transpose of a 2 row and 4 column matrix using a lines of comprehension and\n",
        "then print the changed elements.(3 marks)**\n",
        "\n",
        "Transpose 2 row X 4 column matrix into 4 row X 2 columns"
      ]
    },
    {
      "cell_type": "code",
      "metadata": {
        "id": "zTZ56_6v2vG5",
        "colab_type": "code",
        "colab": {
          "base_uri": "https://localhost:8080/",
          "height": 87
        },
        "outputId": "b1b4ddf4-a5c2-49c4-f390-b224333c169c"
      },
      "source": [
        "transposed = [[0,0],\n",
        "              [0,0],\n",
        "              [0,0],\n",
        "              [0,0]]\n",
        "matrix = [[1, 2, 3, 4], \n",
        "          [4, 5, 6, 8]]\n",
        "\n",
        "### START CODE HERE :\n",
        "for i in range(len(matrix)):\n",
        "  #print(i)\n",
        "  # iterate through columns\n",
        "  for j in range(len(matrix[0])):\n",
        "    #print(j)\n",
        "    transposed[j][i] = matrix[i][j]\n",
        "\n",
        "for r in transposed:\n",
        "  print(r)\n",
        "### END CODE"
      ],
      "execution_count": 46,
      "outputs": [
        {
          "output_type": "stream",
          "text": [
            "[1, 4]\n",
            "[2, 5]\n",
            "[3, 6]\n",
            "[4, 8]\n"
          ],
          "name": "stdout"
        }
      ]
    },
    {
      "cell_type": "markdown",
      "metadata": {
        "id": "qRFMvHTr2vHI",
        "colab_type": "text"
      },
      "source": [
        "## Conclusion: \n",
        "\n",
        "Understand the usefulness and different applications of lists comprehensions"
      ]
    }
  ]
}