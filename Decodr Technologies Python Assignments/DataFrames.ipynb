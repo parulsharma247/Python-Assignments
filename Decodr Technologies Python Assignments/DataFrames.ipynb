{
 "cells": [
  {
   "cell_type": "code",
   "execution_count": 1,
   "metadata": {},
   "outputs": [],
   "source": [
    "import pandas as pd"
   ]
  },
  {
   "cell_type": "code",
   "execution_count": 12,
   "metadata": {},
   "outputs": [],
   "source": [
    "homelessness=pd.read_csv(\"homeless.csv\",index_col=0)"
   ]
  },
  {
   "cell_type": "code",
   "execution_count": 13,
   "metadata": {
    "scrolled": true
   },
   "outputs": [
    {
     "name": "stdout",
     "output_type": "stream",
     "text": [
      "   family_members  individuals              region       state  state_pop\n",
      "0           864.0       2570.0  East South Central     Alabama    4887681\n",
      "1           582.0       1434.0             Pacific      Alaska     735139\n",
      "2          2606.0       7259.0            Mountain     Arizona    7158024\n",
      "3           432.0       2280.0  West South Central    Arkansas    3009733\n",
      "4         20964.0     109008.0             Pacific  California   39461588\n"
     ]
    }
   ],
   "source": [
    "print(homelessness.head())"
   ]
  },
  {
   "cell_type": "code",
   "execution_count": 8,
   "metadata": {},
   "outputs": [
    {
     "name": "stdout",
     "output_type": "stream",
     "text": [
      "<class 'pandas.core.frame.DataFrame'>\n",
      "Int64Index: 51 entries, 0 to 50\n",
      "Data columns (total 5 columns):\n",
      "family_members    51 non-null float64\n",
      "individuals       51 non-null float64\n",
      "region            51 non-null object\n",
      "state             51 non-null object\n",
      "state_pop         51 non-null int64\n",
      "dtypes: float64(2), int64(1), object(2)\n",
      "memory usage: 2.4+ KB\n",
      "None\n"
     ]
    }
   ],
   "source": [
    "print(homelessness.info())"
   ]
  },
  {
   "cell_type": "code",
   "execution_count": 14,
   "metadata": {},
   "outputs": [
    {
     "name": "stdout",
     "output_type": "stream",
     "text": [
      "       family_members    individuals     state_pop\n",
      "count       51.000000      51.000000  5.100000e+01\n",
      "mean      3504.882353    7225.784314  6.405637e+06\n",
      "std       7805.411811   15991.025083  7.327258e+06\n",
      "min         75.000000     434.000000  5.776010e+05\n",
      "25%        592.000000    1446.500000  1.777414e+06\n",
      "50%       1482.000000    3082.000000  4.461153e+06\n",
      "75%       3196.000000    6781.500000  7.340946e+06\n",
      "max      52070.000000  109008.000000  3.946159e+07\n"
     ]
    }
   ],
   "source": [
    "print(homelessness.describe())"
   ]
  },
  {
   "cell_type": "code",
   "execution_count": 15,
   "metadata": {},
   "outputs": [
    {
     "name": "stdout",
     "output_type": "stream",
     "text": [
      "[[864.0 2570.0 'East South Central' 'Alabama' 4887681]\n",
      " [582.0 1434.0 'Pacific' 'Alaska' 735139]\n",
      " [2606.0 7259.0 'Mountain' 'Arizona' 7158024]\n",
      " [432.0 2280.0 'West South Central' 'Arkansas' 3009733]\n",
      " [20964.0 109008.0 'Pacific' 'California' 39461588]\n",
      " [3250.0 7607.0 'Mountain' 'Colorado' 5691287]\n",
      " [1696.0 2280.0 'New England' 'Connecticut' 3571520]\n",
      " [374.0 708.0 'South Atlantic' 'Delaware' 965479]\n",
      " [3134.0 3770.0 'South Atlantic' 'District of Columbia' 701547]\n",
      " [9587.0 21443.0 'South Atlantic' 'Florida' 21244317]\n",
      " [2556.0 6943.0 'South Atlantic' 'Georgia' 10511131]\n",
      " [2399.0 4131.0 'Pacific' 'Hawaii' 1420593]\n",
      " [715.0 1297.0 'Mountain' 'Idaho' 1750536]\n",
      " [3891.0 6752.0 'East North Central' 'Illinois' 12723071]\n",
      " [1482.0 3776.0 'East North Central' 'Indiana' 6695497]\n",
      " [1038.0 1711.0 'West North Central' 'Iowa' 3148618]\n",
      " [773.0 1443.0 'West North Central' 'Kansas' 2911359]\n",
      " [953.0 2735.0 'East South Central' 'Kentucky' 4461153]\n",
      " [519.0 2540.0 'West South Central' 'Louisiana' 4659690]\n",
      " [1066.0 1450.0 'New England' 'Maine' 1339057]\n",
      " [2230.0 4914.0 'South Atlantic' 'Maryland' 6035802]\n",
      " [13257.0 6811.0 'New England' 'Massachusetts' 6882635]\n",
      " [3142.0 5209.0 'East North Central' 'Michigan' 9984072]\n",
      " [3250.0 3993.0 'West North Central' 'Minnesota' 5606249]\n",
      " [328.0 1024.0 'East South Central' 'Mississippi' 2981020]\n",
      " [2107.0 3776.0 'West North Central' 'Missouri' 6121623]\n",
      " [422.0 983.0 'Mountain' 'Montana' 1060665]\n",
      " [676.0 1745.0 'West North Central' 'Nebraska' 1925614]\n",
      " [486.0 7058.0 'Mountain' 'Nevada' 3027341]\n",
      " [615.0 835.0 'New England' 'New Hampshire' 1353465]\n",
      " [3350.0 6048.0 'Mid-Atlantic' 'New Jersey' 8886025]\n",
      " [602.0 1949.0 'Mountain' 'New Mexico' 2092741]\n",
      " [52070.0 39827.0 'Mid-Atlantic' 'New York' 19530351]\n",
      " [2817.0 6451.0 'South Atlantic' 'North Carolina' 10381615]\n",
      " [75.0 467.0 'West North Central' 'North Dakota' 758080]\n",
      " [3320.0 6929.0 'East North Central' 'Ohio' 11676341]\n",
      " [1048.0 2823.0 'West South Central' 'Oklahoma' 3940235]\n",
      " [3337.0 11139.0 'Pacific' 'Oregon' 4181886]\n",
      " [5349.0 8163.0 'Mid-Atlantic' 'Pennsylvania' 12800922]\n",
      " [354.0 747.0 'New England' 'Rhode Island' 1058287]\n",
      " [851.0 3082.0 'South Atlantic' 'South Carolina' 5084156]\n",
      " [323.0 836.0 'West North Central' 'South Dakota' 878698]\n",
      " [1744.0 6139.0 'East South Central' 'Tennessee' 6771631]\n",
      " [6111.0 19199.0 'West South Central' 'Texas' 28628666]\n",
      " [972.0 1904.0 'Mountain' 'Utah' 3153550]\n",
      " [511.0 780.0 'New England' 'Vermont' 624358]\n",
      " [2047.0 3928.0 'South Atlantic' 'Virginia' 8501286]\n",
      " [5880.0 16424.0 'Pacific' 'Washington' 7523869]\n",
      " [222.0 1021.0 'South Atlantic' 'West Virginia' 1804291]\n",
      " [2167.0 2740.0 'East North Central' 'Wisconsin' 5807406]\n",
      " [205.0 434.0 'Mountain' 'Wyoming' 577601]]\n"
     ]
    }
   ],
   "source": [
    "print(homelessness.values)"
   ]
  },
  {
   "cell_type": "code",
   "execution_count": 16,
   "metadata": {},
   "outputs": [
    {
     "name": "stdout",
     "output_type": "stream",
     "text": [
      "Index(['family_members', 'individuals', 'region', 'state', 'state_pop'], dtype='object')\n"
     ]
    }
   ],
   "source": [
    "print(homelessness.columns)"
   ]
  },
  {
   "cell_type": "code",
   "execution_count": 18,
   "metadata": {},
   "outputs": [
    {
     "name": "stdout",
     "output_type": "stream",
     "text": [
      "Int64Index([ 0,  1,  2,  3,  4,  5,  6,  7,  8,  9, 10, 11, 12, 13, 14, 15, 16,\n",
      "            17, 18, 19, 20, 21, 22, 23, 24, 25, 26, 27, 28, 29, 30, 31, 32, 33,\n",
      "            34, 35, 36, 37, 38, 39, 40, 41, 42, 43, 44, 45, 46, 47, 48, 49,\n",
      "            50],\n",
      "           dtype='int64')\n"
     ]
    }
   ],
   "source": [
    "print(homelessness.index)"
   ]
  },
  {
   "cell_type": "code",
   "execution_count": 19,
   "metadata": {},
   "outputs": [
    {
     "data": {
      "text/plain": [
       "(51, 5)"
      ]
     },
     "execution_count": 19,
     "metadata": {},
     "output_type": "execute_result"
    }
   ],
   "source": [
    "homelessness.shape"
   ]
  },
  {
   "cell_type": "code",
   "execution_count": 21,
   "metadata": {},
   "outputs": [
    {
     "name": "stdout",
     "output_type": "stream",
     "text": [
      "   family_members  individuals              region       state  state_pop\n",
      "0           864.0       2570.0  East South Central     Alabama    4887681\n",
      "1           582.0       1434.0             Pacific      Alaska     735139\n",
      "2          2606.0       7259.0            Mountain     Arizona    7158024\n",
      "3           432.0       2280.0  West South Central    Arkansas    3009733\n",
      "4         20964.0     109008.0             Pacific  California   39461588\n"
     ]
    }
   ],
   "source": [
    "print(homelessness.head())"
   ]
  },
  {
   "cell_type": "code",
   "execution_count": 24,
   "metadata": {},
   "outputs": [],
   "source": [
    "homelessness=homelessness.sort_values(\"individuals\")"
   ]
  },
  {
   "cell_type": "code",
   "execution_count": 25,
   "metadata": {},
   "outputs": [
    {
     "name": "stdout",
     "output_type": "stream",
     "text": [
      "    family_members  individuals              region         state  state_pop\n",
      "50           205.0        434.0            Mountain       Wyoming     577601\n",
      "34            75.0        467.0  West North Central  North Dakota     758080\n",
      "7            374.0        708.0      South Atlantic      Delaware     965479\n",
      "39           354.0        747.0         New England  Rhode Island    1058287\n",
      "45           511.0        780.0         New England       Vermont     624358\n"
     ]
    }
   ],
   "source": [
    "print(homelessness.head())"
   ]
  },
  {
   "cell_type": "code",
   "execution_count": 27,
   "metadata": {},
   "outputs": [],
   "source": [
    "homelessness_fam=homelessness.sort_values(\"family_members\",ascending=False)"
   ]
  },
  {
   "cell_type": "code",
   "execution_count": 28,
   "metadata": {},
   "outputs": [
    {
     "name": "stdout",
     "output_type": "stream",
     "text": [
      "    family_members  individuals              region          state  state_pop\n",
      "32         52070.0      39827.0        Mid-Atlantic       New York   19530351\n",
      "4          20964.0     109008.0             Pacific     California   39461588\n",
      "21         13257.0       6811.0         New England  Massachusetts    6882635\n",
      "9           9587.0      21443.0      South Atlantic        Florida   21244317\n",
      "43          6111.0      19199.0  West South Central          Texas   28628666\n"
     ]
    }
   ],
   "source": [
    "print(homelessness_fam.head())"
   ]
  },
  {
   "cell_type": "code",
   "execution_count": 33,
   "metadata": {},
   "outputs": [],
   "source": [
    "homelessness_reg_fam=homelessness.sort_values([\"region\",\"family_members\"],ascending=[True,False])"
   ]
  },
  {
   "cell_type": "code",
   "execution_count": 34,
   "metadata": {},
   "outputs": [
    {
     "name": "stdout",
     "output_type": "stream",
     "text": [
      "    family_members  individuals              region      state  state_pop\n",
      "13          3891.0       6752.0  East North Central   Illinois   12723071\n",
      "35          3320.0       6929.0  East North Central       Ohio   11676341\n",
      "22          3142.0       5209.0  East North Central   Michigan    9984072\n",
      "49          2167.0       2740.0  East North Central  Wisconsin    5807406\n",
      "14          1482.0       3776.0  East North Central    Indiana    6695497\n"
     ]
    }
   ],
   "source": [
    "print(homelessness_reg_fam.head())"
   ]
  },
  {
   "cell_type": "code",
   "execution_count": 36,
   "metadata": {},
   "outputs": [],
   "source": [
    "individuals=homelessness[\"individuals\"]"
   ]
  },
  {
   "cell_type": "code",
   "execution_count": 37,
   "metadata": {},
   "outputs": [
    {
     "name": "stdout",
     "output_type": "stream",
     "text": [
      "50    434.0\n",
      "34    467.0\n",
      "7     708.0\n",
      "39    747.0\n",
      "45    780.0\n",
      "Name: individuals, dtype: float64\n"
     ]
    }
   ],
   "source": [
    "print(individuals.head())"
   ]
  },
  {
   "cell_type": "code",
   "execution_count": 40,
   "metadata": {},
   "outputs": [],
   "source": [
    "state_fam=homelessness[[\"state\",\"family_members\"]]"
   ]
  },
  {
   "cell_type": "code",
   "execution_count": 41,
   "metadata": {},
   "outputs": [
    {
     "name": "stdout",
     "output_type": "stream",
     "text": [
      "           state  family_members\n",
      "50       Wyoming           205.0\n",
      "34  North Dakota            75.0\n",
      "7       Delaware           374.0\n",
      "39  Rhode Island           354.0\n",
      "45       Vermont           511.0\n"
     ]
    }
   ],
   "source": [
    "print(state_fam.head())"
   ]
  },
  {
   "cell_type": "code",
   "execution_count": 42,
   "metadata": {},
   "outputs": [
    {
     "name": "stdout",
     "output_type": "stream",
     "text": [
      "    family_members  individuals              region         state  state_pop\n",
      "50           205.0        434.0            Mountain       Wyoming     577601\n",
      "34            75.0        467.0  West North Central  North Dakota     758080\n",
      "7            374.0        708.0      South Atlantic      Delaware     965479\n",
      "39           354.0        747.0         New England  Rhode Island    1058287\n",
      "45           511.0        780.0         New England       Vermont     624358\n"
     ]
    }
   ],
   "source": [
    "print(homelessness.head())"
   ]
  },
  {
   "cell_type": "code",
   "execution_count": 45,
   "metadata": {},
   "outputs": [],
   "source": [
    "ind_gt_10k=homelessness[homelessness[\"individuals\"]>10000]"
   ]
  },
  {
   "cell_type": "code",
   "execution_count": 46,
   "metadata": {},
   "outputs": [
    {
     "name": "stdout",
     "output_type": "stream",
     "text": [
      "    family_members  individuals              region       state  state_pop\n",
      "37          3337.0      11139.0             Pacific      Oregon    4181886\n",
      "47          5880.0      16424.0             Pacific  Washington    7523869\n",
      "43          6111.0      19199.0  West South Central       Texas   28628666\n",
      "9           9587.0      21443.0      South Atlantic     Florida   21244317\n",
      "32         52070.0      39827.0        Mid-Atlantic    New York   19530351\n",
      "4          20964.0     109008.0             Pacific  California   39461588\n"
     ]
    }
   ],
   "source": [
    "print(ind_gt_10k)"
   ]
  },
  {
   "cell_type": "code",
   "execution_count": 61,
   "metadata": {},
   "outputs": [
    {
     "data": {
      "text/html": [
       "<div>\n",
       "<style scoped>\n",
       "    .dataframe tbody tr th:only-of-type {\n",
       "        vertical-align: middle;\n",
       "    }\n",
       "\n",
       "    .dataframe tbody tr th {\n",
       "        vertical-align: top;\n",
       "    }\n",
       "\n",
       "    .dataframe thead th {\n",
       "        text-align: right;\n",
       "    }\n",
       "</style>\n",
       "<table border=\"1\" class=\"dataframe\">\n",
       "  <thead>\n",
       "    <tr style=\"text-align: right;\">\n",
       "      <th></th>\n",
       "      <th>family_members</th>\n",
       "      <th>individuals</th>\n",
       "      <th>region</th>\n",
       "      <th>state</th>\n",
       "      <th>state_pop</th>\n",
       "    </tr>\n",
       "  </thead>\n",
       "  <tbody>\n",
       "    <tr>\n",
       "      <th>50</th>\n",
       "      <td>205.0</td>\n",
       "      <td>434.0</td>\n",
       "      <td>Mountain</td>\n",
       "      <td>Wyoming</td>\n",
       "      <td>577601</td>\n",
       "    </tr>\n",
       "    <tr>\n",
       "      <th>26</th>\n",
       "      <td>422.0</td>\n",
       "      <td>983.0</td>\n",
       "      <td>Mountain</td>\n",
       "      <td>Montana</td>\n",
       "      <td>1060665</td>\n",
       "    </tr>\n",
       "    <tr>\n",
       "      <th>12</th>\n",
       "      <td>715.0</td>\n",
       "      <td>1297.0</td>\n",
       "      <td>Mountain</td>\n",
       "      <td>Idaho</td>\n",
       "      <td>1750536</td>\n",
       "    </tr>\n",
       "    <tr>\n",
       "      <th>44</th>\n",
       "      <td>972.0</td>\n",
       "      <td>1904.0</td>\n",
       "      <td>Mountain</td>\n",
       "      <td>Utah</td>\n",
       "      <td>3153550</td>\n",
       "    </tr>\n",
       "    <tr>\n",
       "      <th>31</th>\n",
       "      <td>602.0</td>\n",
       "      <td>1949.0</td>\n",
       "      <td>Mountain</td>\n",
       "      <td>New Mexico</td>\n",
       "      <td>2092741</td>\n",
       "    </tr>\n",
       "    <tr>\n",
       "      <th>28</th>\n",
       "      <td>486.0</td>\n",
       "      <td>7058.0</td>\n",
       "      <td>Mountain</td>\n",
       "      <td>Nevada</td>\n",
       "      <td>3027341</td>\n",
       "    </tr>\n",
       "    <tr>\n",
       "      <th>2</th>\n",
       "      <td>2606.0</td>\n",
       "      <td>7259.0</td>\n",
       "      <td>Mountain</td>\n",
       "      <td>Arizona</td>\n",
       "      <td>7158024</td>\n",
       "    </tr>\n",
       "    <tr>\n",
       "      <th>5</th>\n",
       "      <td>3250.0</td>\n",
       "      <td>7607.0</td>\n",
       "      <td>Mountain</td>\n",
       "      <td>Colorado</td>\n",
       "      <td>5691287</td>\n",
       "    </tr>\n",
       "  </tbody>\n",
       "</table>\n",
       "</div>"
      ],
      "text/plain": [
       "    family_members  individuals    region       state  state_pop\n",
       "50           205.0        434.0  Mountain     Wyoming     577601\n",
       "26           422.0        983.0  Mountain     Montana    1060665\n",
       "12           715.0       1297.0  Mountain       Idaho    1750536\n",
       "44           972.0       1904.0  Mountain        Utah    3153550\n",
       "31           602.0       1949.0  Mountain  New Mexico    2092741\n",
       "28           486.0       7058.0  Mountain      Nevada    3027341\n",
       "2           2606.0       7259.0  Mountain     Arizona    7158024\n",
       "5           3250.0       7607.0  Mountain    Colorado    5691287"
      ]
     },
     "execution_count": 61,
     "metadata": {},
     "output_type": "execute_result"
    }
   ],
   "source": [
    "homelessness[homelessness[\"region\"]==\"Mountain\"]"
   ]
  },
  {
   "cell_type": "code",
   "execution_count": 54,
   "metadata": {},
   "outputs": [
    {
     "data": {
      "text/html": [
       "<div>\n",
       "<style scoped>\n",
       "    .dataframe tbody tr th:only-of-type {\n",
       "        vertical-align: middle;\n",
       "    }\n",
       "\n",
       "    .dataframe tbody tr th {\n",
       "        vertical-align: top;\n",
       "    }\n",
       "\n",
       "    .dataframe thead th {\n",
       "        text-align: right;\n",
       "    }\n",
       "</style>\n",
       "<table border=\"1\" class=\"dataframe\">\n",
       "  <thead>\n",
       "    <tr style=\"text-align: right;\">\n",
       "      <th></th>\n",
       "      <th>family_members</th>\n",
       "      <th>individuals</th>\n",
       "      <th>region</th>\n",
       "      <th>state</th>\n",
       "      <th>state_pop</th>\n",
       "    </tr>\n",
       "  </thead>\n",
       "  <tbody>\n",
       "  </tbody>\n",
       "</table>\n",
       "</div>"
      ],
      "text/plain": [
       "Empty DataFrame\n",
       "Columns: [family_members, individuals, region, state, state_pop]\n",
       "Index: []"
      ]
     },
     "execution_count": 54,
     "metadata": {},
     "output_type": "execute_result"
    }
   ],
   "source": [
    "homelessness[(homelessness[\"family_members\"]<1000) & (homelessness[\"region\"]==\"pacific\")]"
   ]
  },
  {
   "cell_type": "code",
   "execution_count": 56,
   "metadata": {},
   "outputs": [
    {
     "name": "stdout",
     "output_type": "stream",
     "text": [
      "    family_members  individuals              region         state  state_pop\n",
      "50           205.0        434.0            Mountain       Wyoming     577601\n",
      "34            75.0        467.0  West North Central  North Dakota     758080\n",
      "7            374.0        708.0      South Atlantic      Delaware     965479\n",
      "39           354.0        747.0         New England  Rhode Island    1058287\n",
      "45           511.0        780.0         New England       Vermont     624358\n"
     ]
    }
   ],
   "source": [
    "print(homelessness.head())"
   ]
  },
  {
   "cell_type": "code",
   "execution_count": 63,
   "metadata": {},
   "outputs": [
    {
     "data": {
      "text/html": [
       "<div>\n",
       "<style scoped>\n",
       "    .dataframe tbody tr th:only-of-type {\n",
       "        vertical-align: middle;\n",
       "    }\n",
       "\n",
       "    .dataframe tbody tr th {\n",
       "        vertical-align: top;\n",
       "    }\n",
       "\n",
       "    .dataframe thead th {\n",
       "        text-align: right;\n",
       "    }\n",
       "</style>\n",
       "<table border=\"1\" class=\"dataframe\">\n",
       "  <thead>\n",
       "    <tr style=\"text-align: right;\">\n",
       "      <th></th>\n",
       "      <th>family_members</th>\n",
       "      <th>individuals</th>\n",
       "      <th>region</th>\n",
       "      <th>state</th>\n",
       "      <th>state_pop</th>\n",
       "    </tr>\n",
       "  </thead>\n",
       "  <tbody>\n",
       "    <tr>\n",
       "      <th>7</th>\n",
       "      <td>374.0</td>\n",
       "      <td>708.0</td>\n",
       "      <td>South Atlantic</td>\n",
       "      <td>Delaware</td>\n",
       "      <td>965479</td>\n",
       "    </tr>\n",
       "    <tr>\n",
       "      <th>48</th>\n",
       "      <td>222.0</td>\n",
       "      <td>1021.0</td>\n",
       "      <td>South Atlantic</td>\n",
       "      <td>West Virginia</td>\n",
       "      <td>1804291</td>\n",
       "    </tr>\n",
       "    <tr>\n",
       "      <th>40</th>\n",
       "      <td>851.0</td>\n",
       "      <td>3082.0</td>\n",
       "      <td>South Atlantic</td>\n",
       "      <td>South Carolina</td>\n",
       "      <td>5084156</td>\n",
       "    </tr>\n",
       "    <tr>\n",
       "      <th>8</th>\n",
       "      <td>3134.0</td>\n",
       "      <td>3770.0</td>\n",
       "      <td>South Atlantic</td>\n",
       "      <td>District of Columbia</td>\n",
       "      <td>701547</td>\n",
       "    </tr>\n",
       "    <tr>\n",
       "      <th>46</th>\n",
       "      <td>2047.0</td>\n",
       "      <td>3928.0</td>\n",
       "      <td>South Atlantic</td>\n",
       "      <td>Virginia</td>\n",
       "      <td>8501286</td>\n",
       "    </tr>\n",
       "    <tr>\n",
       "      <th>20</th>\n",
       "      <td>2230.0</td>\n",
       "      <td>4914.0</td>\n",
       "      <td>South Atlantic</td>\n",
       "      <td>Maryland</td>\n",
       "      <td>6035802</td>\n",
       "    </tr>\n",
       "    <tr>\n",
       "      <th>30</th>\n",
       "      <td>3350.0</td>\n",
       "      <td>6048.0</td>\n",
       "      <td>Mid-Atlantic</td>\n",
       "      <td>New Jersey</td>\n",
       "      <td>8886025</td>\n",
       "    </tr>\n",
       "    <tr>\n",
       "      <th>33</th>\n",
       "      <td>2817.0</td>\n",
       "      <td>6451.0</td>\n",
       "      <td>South Atlantic</td>\n",
       "      <td>North Carolina</td>\n",
       "      <td>10381615</td>\n",
       "    </tr>\n",
       "    <tr>\n",
       "      <th>10</th>\n",
       "      <td>2556.0</td>\n",
       "      <td>6943.0</td>\n",
       "      <td>South Atlantic</td>\n",
       "      <td>Georgia</td>\n",
       "      <td>10511131</td>\n",
       "    </tr>\n",
       "    <tr>\n",
       "      <th>38</th>\n",
       "      <td>5349.0</td>\n",
       "      <td>8163.0</td>\n",
       "      <td>Mid-Atlantic</td>\n",
       "      <td>Pennsylvania</td>\n",
       "      <td>12800922</td>\n",
       "    </tr>\n",
       "    <tr>\n",
       "      <th>9</th>\n",
       "      <td>9587.0</td>\n",
       "      <td>21443.0</td>\n",
       "      <td>South Atlantic</td>\n",
       "      <td>Florida</td>\n",
       "      <td>21244317</td>\n",
       "    </tr>\n",
       "    <tr>\n",
       "      <th>32</th>\n",
       "      <td>52070.0</td>\n",
       "      <td>39827.0</td>\n",
       "      <td>Mid-Atlantic</td>\n",
       "      <td>New York</td>\n",
       "      <td>19530351</td>\n",
       "    </tr>\n",
       "  </tbody>\n",
       "</table>\n",
       "</div>"
      ],
      "text/plain": [
       "    family_members  individuals          region                 state  \\\n",
       "7            374.0        708.0  South Atlantic              Delaware   \n",
       "48           222.0       1021.0  South Atlantic         West Virginia   \n",
       "40           851.0       3082.0  South Atlantic        South Carolina   \n",
       "8           3134.0       3770.0  South Atlantic  District of Columbia   \n",
       "46          2047.0       3928.0  South Atlantic              Virginia   \n",
       "20          2230.0       4914.0  South Atlantic              Maryland   \n",
       "30          3350.0       6048.0    Mid-Atlantic            New Jersey   \n",
       "33          2817.0       6451.0  South Atlantic        North Carolina   \n",
       "10          2556.0       6943.0  South Atlantic               Georgia   \n",
       "38          5349.0       8163.0    Mid-Atlantic          Pennsylvania   \n",
       "9           9587.0      21443.0  South Atlantic               Florida   \n",
       "32         52070.0      39827.0    Mid-Atlantic              New York   \n",
       "\n",
       "    state_pop  \n",
       "7      965479  \n",
       "48    1804291  \n",
       "40    5084156  \n",
       "8      701547  \n",
       "46    8501286  \n",
       "20    6035802  \n",
       "30    8886025  \n",
       "33   10381615  \n",
       "10   10511131  \n",
       "38   12800922  \n",
       "9    21244317  \n",
       "32   19530351  "
      ]
     },
     "execution_count": 63,
     "metadata": {},
     "output_type": "execute_result"
    }
   ],
   "source": [
    "homelessness[(homelessness[\"region\"]==\"South Atlantic\") | (homelessness[\"region\"]==\"Mid-Atlantic\")]"
   ]
  },
  {
   "cell_type": "code",
   "execution_count": 65,
   "metadata": {},
   "outputs": [],
   "source": [
    "canu=[\"California\",\"Arizona\",\"Nevada\",\"Utah\"]"
   ]
  },
  {
   "cell_type": "code",
   "execution_count": 95,
   "metadata": {},
   "outputs": [
    {
     "data": {
      "text/html": [
       "<div>\n",
       "<style scoped>\n",
       "    .dataframe tbody tr th:only-of-type {\n",
       "        vertical-align: middle;\n",
       "    }\n",
       "\n",
       "    .dataframe tbody tr th {\n",
       "        vertical-align: top;\n",
       "    }\n",
       "\n",
       "    .dataframe thead th {\n",
       "        text-align: right;\n",
       "    }\n",
       "</style>\n",
       "<table border=\"1\" class=\"dataframe\">\n",
       "  <thead>\n",
       "    <tr style=\"text-align: right;\">\n",
       "      <th></th>\n",
       "      <th>family_members</th>\n",
       "      <th>individuals</th>\n",
       "      <th>region</th>\n",
       "      <th>state</th>\n",
       "      <th>state_pop</th>\n",
       "      <th>total</th>\n",
       "      <th>p_individuals</th>\n",
       "      <th>indiv_per_10k</th>\n",
       "    </tr>\n",
       "  </thead>\n",
       "  <tbody>\n",
       "    <tr>\n",
       "      <th>44</th>\n",
       "      <td>972.0</td>\n",
       "      <td>1904.0</td>\n",
       "      <td>Mountain</td>\n",
       "      <td>Utah</td>\n",
       "      <td>3153550</td>\n",
       "      <td>2876.0</td>\n",
       "      <td>0.662031</td>\n",
       "      <td>6.037640</td>\n",
       "    </tr>\n",
       "    <tr>\n",
       "      <th>28</th>\n",
       "      <td>486.0</td>\n",
       "      <td>7058.0</td>\n",
       "      <td>Mountain</td>\n",
       "      <td>Nevada</td>\n",
       "      <td>3027341</td>\n",
       "      <td>7544.0</td>\n",
       "      <td>0.935578</td>\n",
       "      <td>23.314189</td>\n",
       "    </tr>\n",
       "    <tr>\n",
       "      <th>2</th>\n",
       "      <td>2606.0</td>\n",
       "      <td>7259.0</td>\n",
       "      <td>Mountain</td>\n",
       "      <td>Arizona</td>\n",
       "      <td>7158024</td>\n",
       "      <td>9865.0</td>\n",
       "      <td>0.735834</td>\n",
       "      <td>10.141067</td>\n",
       "    </tr>\n",
       "    <tr>\n",
       "      <th>4</th>\n",
       "      <td>20964.0</td>\n",
       "      <td>109008.0</td>\n",
       "      <td>Pacific</td>\n",
       "      <td>California</td>\n",
       "      <td>39461588</td>\n",
       "      <td>129972.0</td>\n",
       "      <td>0.838704</td>\n",
       "      <td>27.623825</td>\n",
       "    </tr>\n",
       "  </tbody>\n",
       "</table>\n",
       "</div>"
      ],
      "text/plain": [
       "    family_members  individuals    region       state  state_pop     total  \\\n",
       "44           972.0       1904.0  Mountain        Utah    3153550    2876.0   \n",
       "28           486.0       7058.0  Mountain      Nevada    3027341    7544.0   \n",
       "2           2606.0       7259.0  Mountain     Arizona    7158024    9865.0   \n",
       "4          20964.0     109008.0   Pacific  California   39461588  129972.0   \n",
       "\n",
       "    p_individuals  indiv_per_10k  \n",
       "44       0.662031       6.037640  \n",
       "28       0.935578      23.314189  \n",
       "2        0.735834      10.141067  \n",
       "4        0.838704      27.623825  "
      ]
     },
     "execution_count": 95,
     "metadata": {},
     "output_type": "execute_result"
    }
   ],
   "source": [
    "homelessness[homelessness[\"state\"].isin(canu)]"
   ]
  },
  {
   "cell_type": "code",
   "execution_count": 73,
   "metadata": {},
   "outputs": [],
   "source": [
    "homelessness[\"total\"]=homelessness[\"individuals\"] + homelessness[\"family_members\"]"
   ]
  },
  {
   "cell_type": "code",
   "execution_count": 74,
   "metadata": {},
   "outputs": [
    {
     "data": {
      "text/html": [
       "<div>\n",
       "<style scoped>\n",
       "    .dataframe tbody tr th:only-of-type {\n",
       "        vertical-align: middle;\n",
       "    }\n",
       "\n",
       "    .dataframe tbody tr th {\n",
       "        vertical-align: top;\n",
       "    }\n",
       "\n",
       "    .dataframe thead th {\n",
       "        text-align: right;\n",
       "    }\n",
       "</style>\n",
       "<table border=\"1\" class=\"dataframe\">\n",
       "  <thead>\n",
       "    <tr style=\"text-align: right;\">\n",
       "      <th></th>\n",
       "      <th>family_members</th>\n",
       "      <th>individuals</th>\n",
       "      <th>region</th>\n",
       "      <th>state</th>\n",
       "      <th>state_pop</th>\n",
       "      <th>total</th>\n",
       "    </tr>\n",
       "  </thead>\n",
       "  <tbody>\n",
       "    <tr>\n",
       "      <th>50</th>\n",
       "      <td>205.0</td>\n",
       "      <td>434.0</td>\n",
       "      <td>Mountain</td>\n",
       "      <td>Wyoming</td>\n",
       "      <td>577601</td>\n",
       "      <td>639.0</td>\n",
       "    </tr>\n",
       "    <tr>\n",
       "      <th>34</th>\n",
       "      <td>75.0</td>\n",
       "      <td>467.0</td>\n",
       "      <td>West North Central</td>\n",
       "      <td>North Dakota</td>\n",
       "      <td>758080</td>\n",
       "      <td>542.0</td>\n",
       "    </tr>\n",
       "    <tr>\n",
       "      <th>7</th>\n",
       "      <td>374.0</td>\n",
       "      <td>708.0</td>\n",
       "      <td>South Atlantic</td>\n",
       "      <td>Delaware</td>\n",
       "      <td>965479</td>\n",
       "      <td>1082.0</td>\n",
       "    </tr>\n",
       "    <tr>\n",
       "      <th>39</th>\n",
       "      <td>354.0</td>\n",
       "      <td>747.0</td>\n",
       "      <td>New England</td>\n",
       "      <td>Rhode Island</td>\n",
       "      <td>1058287</td>\n",
       "      <td>1101.0</td>\n",
       "    </tr>\n",
       "    <tr>\n",
       "      <th>45</th>\n",
       "      <td>511.0</td>\n",
       "      <td>780.0</td>\n",
       "      <td>New England</td>\n",
       "      <td>Vermont</td>\n",
       "      <td>624358</td>\n",
       "      <td>1291.0</td>\n",
       "    </tr>\n",
       "  </tbody>\n",
       "</table>\n",
       "</div>"
      ],
      "text/plain": [
       "    family_members  individuals              region         state  state_pop  \\\n",
       "50           205.0        434.0            Mountain       Wyoming     577601   \n",
       "34            75.0        467.0  West North Central  North Dakota     758080   \n",
       "7            374.0        708.0      South Atlantic      Delaware     965479   \n",
       "39           354.0        747.0         New England  Rhode Island    1058287   \n",
       "45           511.0        780.0         New England       Vermont     624358   \n",
       "\n",
       "     total  \n",
       "50   639.0  \n",
       "34   542.0  \n",
       "7   1082.0  \n",
       "39  1101.0  \n",
       "45  1291.0  "
      ]
     },
     "execution_count": 74,
     "metadata": {},
     "output_type": "execute_result"
    }
   ],
   "source": [
    "homelessness.head()"
   ]
  },
  {
   "cell_type": "code",
   "execution_count": 75,
   "metadata": {},
   "outputs": [],
   "source": [
    "homelessness[\"p_individuals\"]=homelessness[\"individuals\"]/homelessness[\"total\"]"
   ]
  },
  {
   "cell_type": "code",
   "execution_count": 76,
   "metadata": {},
   "outputs": [
    {
     "data": {
      "text/html": [
       "<div>\n",
       "<style scoped>\n",
       "    .dataframe tbody tr th:only-of-type {\n",
       "        vertical-align: middle;\n",
       "    }\n",
       "\n",
       "    .dataframe tbody tr th {\n",
       "        vertical-align: top;\n",
       "    }\n",
       "\n",
       "    .dataframe thead th {\n",
       "        text-align: right;\n",
       "    }\n",
       "</style>\n",
       "<table border=\"1\" class=\"dataframe\">\n",
       "  <thead>\n",
       "    <tr style=\"text-align: right;\">\n",
       "      <th></th>\n",
       "      <th>family_members</th>\n",
       "      <th>individuals</th>\n",
       "      <th>region</th>\n",
       "      <th>state</th>\n",
       "      <th>state_pop</th>\n",
       "      <th>total</th>\n",
       "      <th>p_individuals</th>\n",
       "    </tr>\n",
       "  </thead>\n",
       "  <tbody>\n",
       "    <tr>\n",
       "      <th>50</th>\n",
       "      <td>205.0</td>\n",
       "      <td>434.0</td>\n",
       "      <td>Mountain</td>\n",
       "      <td>Wyoming</td>\n",
       "      <td>577601</td>\n",
       "      <td>639.0</td>\n",
       "      <td>0.679186</td>\n",
       "    </tr>\n",
       "    <tr>\n",
       "      <th>34</th>\n",
       "      <td>75.0</td>\n",
       "      <td>467.0</td>\n",
       "      <td>West North Central</td>\n",
       "      <td>North Dakota</td>\n",
       "      <td>758080</td>\n",
       "      <td>542.0</td>\n",
       "      <td>0.861624</td>\n",
       "    </tr>\n",
       "    <tr>\n",
       "      <th>7</th>\n",
       "      <td>374.0</td>\n",
       "      <td>708.0</td>\n",
       "      <td>South Atlantic</td>\n",
       "      <td>Delaware</td>\n",
       "      <td>965479</td>\n",
       "      <td>1082.0</td>\n",
       "      <td>0.654344</td>\n",
       "    </tr>\n",
       "    <tr>\n",
       "      <th>39</th>\n",
       "      <td>354.0</td>\n",
       "      <td>747.0</td>\n",
       "      <td>New England</td>\n",
       "      <td>Rhode Island</td>\n",
       "      <td>1058287</td>\n",
       "      <td>1101.0</td>\n",
       "      <td>0.678474</td>\n",
       "    </tr>\n",
       "    <tr>\n",
       "      <th>45</th>\n",
       "      <td>511.0</td>\n",
       "      <td>780.0</td>\n",
       "      <td>New England</td>\n",
       "      <td>Vermont</td>\n",
       "      <td>624358</td>\n",
       "      <td>1291.0</td>\n",
       "      <td>0.604183</td>\n",
       "    </tr>\n",
       "  </tbody>\n",
       "</table>\n",
       "</div>"
      ],
      "text/plain": [
       "    family_members  individuals              region         state  state_pop  \\\n",
       "50           205.0        434.0            Mountain       Wyoming     577601   \n",
       "34            75.0        467.0  West North Central  North Dakota     758080   \n",
       "7            374.0        708.0      South Atlantic      Delaware     965479   \n",
       "39           354.0        747.0         New England  Rhode Island    1058287   \n",
       "45           511.0        780.0         New England       Vermont     624358   \n",
       "\n",
       "     total  p_individuals  \n",
       "50   639.0       0.679186  \n",
       "34   542.0       0.861624  \n",
       "7   1082.0       0.654344  \n",
       "39  1101.0       0.678474  \n",
       "45  1291.0       0.604183  "
      ]
     },
     "execution_count": 76,
     "metadata": {},
     "output_type": "execute_result"
    }
   ],
   "source": [
    "homelessness.head()"
   ]
  },
  {
   "cell_type": "code",
   "execution_count": 77,
   "metadata": {},
   "outputs": [],
   "source": [
    "homelessness[\"Sanjay\"]=1"
   ]
  },
  {
   "cell_type": "code",
   "execution_count": 78,
   "metadata": {},
   "outputs": [
    {
     "data": {
      "text/html": [
       "<div>\n",
       "<style scoped>\n",
       "    .dataframe tbody tr th:only-of-type {\n",
       "        vertical-align: middle;\n",
       "    }\n",
       "\n",
       "    .dataframe tbody tr th {\n",
       "        vertical-align: top;\n",
       "    }\n",
       "\n",
       "    .dataframe thead th {\n",
       "        text-align: right;\n",
       "    }\n",
       "</style>\n",
       "<table border=\"1\" class=\"dataframe\">\n",
       "  <thead>\n",
       "    <tr style=\"text-align: right;\">\n",
       "      <th></th>\n",
       "      <th>family_members</th>\n",
       "      <th>individuals</th>\n",
       "      <th>region</th>\n",
       "      <th>state</th>\n",
       "      <th>state_pop</th>\n",
       "      <th>total</th>\n",
       "      <th>p_individuals</th>\n",
       "      <th>Sanjay</th>\n",
       "    </tr>\n",
       "  </thead>\n",
       "  <tbody>\n",
       "    <tr>\n",
       "      <th>50</th>\n",
       "      <td>205.0</td>\n",
       "      <td>434.0</td>\n",
       "      <td>Mountain</td>\n",
       "      <td>Wyoming</td>\n",
       "      <td>577601</td>\n",
       "      <td>639.0</td>\n",
       "      <td>0.679186</td>\n",
       "      <td>1</td>\n",
       "    </tr>\n",
       "    <tr>\n",
       "      <th>34</th>\n",
       "      <td>75.0</td>\n",
       "      <td>467.0</td>\n",
       "      <td>West North Central</td>\n",
       "      <td>North Dakota</td>\n",
       "      <td>758080</td>\n",
       "      <td>542.0</td>\n",
       "      <td>0.861624</td>\n",
       "      <td>1</td>\n",
       "    </tr>\n",
       "    <tr>\n",
       "      <th>7</th>\n",
       "      <td>374.0</td>\n",
       "      <td>708.0</td>\n",
       "      <td>South Atlantic</td>\n",
       "      <td>Delaware</td>\n",
       "      <td>965479</td>\n",
       "      <td>1082.0</td>\n",
       "      <td>0.654344</td>\n",
       "      <td>1</td>\n",
       "    </tr>\n",
       "    <tr>\n",
       "      <th>39</th>\n",
       "      <td>354.0</td>\n",
       "      <td>747.0</td>\n",
       "      <td>New England</td>\n",
       "      <td>Rhode Island</td>\n",
       "      <td>1058287</td>\n",
       "      <td>1101.0</td>\n",
       "      <td>0.678474</td>\n",
       "      <td>1</td>\n",
       "    </tr>\n",
       "    <tr>\n",
       "      <th>45</th>\n",
       "      <td>511.0</td>\n",
       "      <td>780.0</td>\n",
       "      <td>New England</td>\n",
       "      <td>Vermont</td>\n",
       "      <td>624358</td>\n",
       "      <td>1291.0</td>\n",
       "      <td>0.604183</td>\n",
       "      <td>1</td>\n",
       "    </tr>\n",
       "  </tbody>\n",
       "</table>\n",
       "</div>"
      ],
      "text/plain": [
       "    family_members  individuals              region         state  state_pop  \\\n",
       "50           205.0        434.0            Mountain       Wyoming     577601   \n",
       "34            75.0        467.0  West North Central  North Dakota     758080   \n",
       "7            374.0        708.0      South Atlantic      Delaware     965479   \n",
       "39           354.0        747.0         New England  Rhode Island    1058287   \n",
       "45           511.0        780.0         New England       Vermont     624358   \n",
       "\n",
       "     total  p_individuals  Sanjay  \n",
       "50   639.0       0.679186       1  \n",
       "34   542.0       0.861624       1  \n",
       "7   1082.0       0.654344       1  \n",
       "39  1101.0       0.678474       1  \n",
       "45  1291.0       0.604183       1  "
      ]
     },
     "execution_count": 78,
     "metadata": {},
     "output_type": "execute_result"
    }
   ],
   "source": [
    "homelessness.head()"
   ]
  },
  {
   "cell_type": "code",
   "execution_count": 83,
   "metadata": {},
   "outputs": [],
   "source": [
    "homelessness=homelessness.drop(\"Sanjay\",axis=1)"
   ]
  },
  {
   "cell_type": "code",
   "execution_count": 84,
   "metadata": {},
   "outputs": [
    {
     "data": {
      "text/html": [
       "<div>\n",
       "<style scoped>\n",
       "    .dataframe tbody tr th:only-of-type {\n",
       "        vertical-align: middle;\n",
       "    }\n",
       "\n",
       "    .dataframe tbody tr th {\n",
       "        vertical-align: top;\n",
       "    }\n",
       "\n",
       "    .dataframe thead th {\n",
       "        text-align: right;\n",
       "    }\n",
       "</style>\n",
       "<table border=\"1\" class=\"dataframe\">\n",
       "  <thead>\n",
       "    <tr style=\"text-align: right;\">\n",
       "      <th></th>\n",
       "      <th>family_members</th>\n",
       "      <th>individuals</th>\n",
       "      <th>region</th>\n",
       "      <th>state</th>\n",
       "      <th>state_pop</th>\n",
       "      <th>total</th>\n",
       "      <th>p_individuals</th>\n",
       "    </tr>\n",
       "  </thead>\n",
       "  <tbody>\n",
       "    <tr>\n",
       "      <th>50</th>\n",
       "      <td>205.0</td>\n",
       "      <td>434.0</td>\n",
       "      <td>Mountain</td>\n",
       "      <td>Wyoming</td>\n",
       "      <td>577601</td>\n",
       "      <td>639.0</td>\n",
       "      <td>0.679186</td>\n",
       "    </tr>\n",
       "    <tr>\n",
       "      <th>34</th>\n",
       "      <td>75.0</td>\n",
       "      <td>467.0</td>\n",
       "      <td>West North Central</td>\n",
       "      <td>North Dakota</td>\n",
       "      <td>758080</td>\n",
       "      <td>542.0</td>\n",
       "      <td>0.861624</td>\n",
       "    </tr>\n",
       "    <tr>\n",
       "      <th>7</th>\n",
       "      <td>374.0</td>\n",
       "      <td>708.0</td>\n",
       "      <td>South Atlantic</td>\n",
       "      <td>Delaware</td>\n",
       "      <td>965479</td>\n",
       "      <td>1082.0</td>\n",
       "      <td>0.654344</td>\n",
       "    </tr>\n",
       "    <tr>\n",
       "      <th>39</th>\n",
       "      <td>354.0</td>\n",
       "      <td>747.0</td>\n",
       "      <td>New England</td>\n",
       "      <td>Rhode Island</td>\n",
       "      <td>1058287</td>\n",
       "      <td>1101.0</td>\n",
       "      <td>0.678474</td>\n",
       "    </tr>\n",
       "    <tr>\n",
       "      <th>45</th>\n",
       "      <td>511.0</td>\n",
       "      <td>780.0</td>\n",
       "      <td>New England</td>\n",
       "      <td>Vermont</td>\n",
       "      <td>624358</td>\n",
       "      <td>1291.0</td>\n",
       "      <td>0.604183</td>\n",
       "    </tr>\n",
       "  </tbody>\n",
       "</table>\n",
       "</div>"
      ],
      "text/plain": [
       "    family_members  individuals              region         state  state_pop  \\\n",
       "50           205.0        434.0            Mountain       Wyoming     577601   \n",
       "34            75.0        467.0  West North Central  North Dakota     758080   \n",
       "7            374.0        708.0      South Atlantic      Delaware     965479   \n",
       "39           354.0        747.0         New England  Rhode Island    1058287   \n",
       "45           511.0        780.0         New England       Vermont     624358   \n",
       "\n",
       "     total  p_individuals  \n",
       "50   639.0       0.679186  \n",
       "34   542.0       0.861624  \n",
       "7   1082.0       0.654344  \n",
       "39  1101.0       0.678474  \n",
       "45  1291.0       0.604183  "
      ]
     },
     "execution_count": 84,
     "metadata": {},
     "output_type": "execute_result"
    }
   ],
   "source": [
    "homelessness.head()"
   ]
  },
  {
   "cell_type": "code",
   "execution_count": 86,
   "metadata": {},
   "outputs": [],
   "source": [
    "homelessness[\"indiv_per_10k\"]=10000* homelessness[\"individuals\"]/homelessness[\"state_pop\"]"
   ]
  },
  {
   "cell_type": "code",
   "execution_count": 87,
   "metadata": {},
   "outputs": [
    {
     "data": {
      "text/html": [
       "<div>\n",
       "<style scoped>\n",
       "    .dataframe tbody tr th:only-of-type {\n",
       "        vertical-align: middle;\n",
       "    }\n",
       "\n",
       "    .dataframe tbody tr th {\n",
       "        vertical-align: top;\n",
       "    }\n",
       "\n",
       "    .dataframe thead th {\n",
       "        text-align: right;\n",
       "    }\n",
       "</style>\n",
       "<table border=\"1\" class=\"dataframe\">\n",
       "  <thead>\n",
       "    <tr style=\"text-align: right;\">\n",
       "      <th></th>\n",
       "      <th>family_members</th>\n",
       "      <th>individuals</th>\n",
       "      <th>region</th>\n",
       "      <th>state</th>\n",
       "      <th>state_pop</th>\n",
       "      <th>total</th>\n",
       "      <th>p_individuals</th>\n",
       "      <th>indiv_per_10k</th>\n",
       "    </tr>\n",
       "  </thead>\n",
       "  <tbody>\n",
       "    <tr>\n",
       "      <th>50</th>\n",
       "      <td>205.0</td>\n",
       "      <td>434.0</td>\n",
       "      <td>Mountain</td>\n",
       "      <td>Wyoming</td>\n",
       "      <td>577601</td>\n",
       "      <td>639.0</td>\n",
       "      <td>0.679186</td>\n",
       "      <td>7.513837</td>\n",
       "    </tr>\n",
       "    <tr>\n",
       "      <th>34</th>\n",
       "      <td>75.0</td>\n",
       "      <td>467.0</td>\n",
       "      <td>West North Central</td>\n",
       "      <td>North Dakota</td>\n",
       "      <td>758080</td>\n",
       "      <td>542.0</td>\n",
       "      <td>0.861624</td>\n",
       "      <td>6.160300</td>\n",
       "    </tr>\n",
       "    <tr>\n",
       "      <th>7</th>\n",
       "      <td>374.0</td>\n",
       "      <td>708.0</td>\n",
       "      <td>South Atlantic</td>\n",
       "      <td>Delaware</td>\n",
       "      <td>965479</td>\n",
       "      <td>1082.0</td>\n",
       "      <td>0.654344</td>\n",
       "      <td>7.333148</td>\n",
       "    </tr>\n",
       "    <tr>\n",
       "      <th>39</th>\n",
       "      <td>354.0</td>\n",
       "      <td>747.0</td>\n",
       "      <td>New England</td>\n",
       "      <td>Rhode Island</td>\n",
       "      <td>1058287</td>\n",
       "      <td>1101.0</td>\n",
       "      <td>0.678474</td>\n",
       "      <td>7.058577</td>\n",
       "    </tr>\n",
       "    <tr>\n",
       "      <th>45</th>\n",
       "      <td>511.0</td>\n",
       "      <td>780.0</td>\n",
       "      <td>New England</td>\n",
       "      <td>Vermont</td>\n",
       "      <td>624358</td>\n",
       "      <td>1291.0</td>\n",
       "      <td>0.604183</td>\n",
       "      <td>12.492833</td>\n",
       "    </tr>\n",
       "  </tbody>\n",
       "</table>\n",
       "</div>"
      ],
      "text/plain": [
       "    family_members  individuals              region         state  state_pop  \\\n",
       "50           205.0        434.0            Mountain       Wyoming     577601   \n",
       "34            75.0        467.0  West North Central  North Dakota     758080   \n",
       "7            374.0        708.0      South Atlantic      Delaware     965479   \n",
       "39           354.0        747.0         New England  Rhode Island    1058287   \n",
       "45           511.0        780.0         New England       Vermont     624358   \n",
       "\n",
       "     total  p_individuals  indiv_per_10k  \n",
       "50   639.0       0.679186       7.513837  \n",
       "34   542.0       0.861624       6.160300  \n",
       "7   1082.0       0.654344       7.333148  \n",
       "39  1101.0       0.678474       7.058577  \n",
       "45  1291.0       0.604183      12.492833  "
      ]
     },
     "execution_count": 87,
     "metadata": {},
     "output_type": "execute_result"
    }
   ],
   "source": [
    "homelessness.head()"
   ]
  },
  {
   "cell_type": "code",
   "execution_count": 89,
   "metadata": {},
   "outputs": [],
   "source": [
    "high_homelessness=homelessness[homelessness[\"indiv_per_10k\"]>20]"
   ]
  },
  {
   "cell_type": "code",
   "execution_count": 90,
   "metadata": {},
   "outputs": [],
   "source": [
    "high_homelessness_srt=high_homelessness.sort_values(\"indiv_per_10k\",ascending=False)"
   ]
  },
  {
   "cell_type": "code",
   "execution_count": 93,
   "metadata": {},
   "outputs": [],
   "source": [
    "result=high_homelessness_srt[[\"state\",\"indiv_per_10k\"]]"
   ]
  },
  {
   "cell_type": "code",
   "execution_count": 94,
   "metadata": {},
   "outputs": [
    {
     "name": "stdout",
     "output_type": "stream",
     "text": [
      "                   state  indiv_per_10k\n",
      "8   District of Columbia      53.738381\n",
      "11                Hawaii      29.079406\n",
      "4             California      27.623825\n",
      "37                Oregon      26.636307\n",
      "28                Nevada      23.314189\n",
      "47            Washington      21.829195\n",
      "32              New York      20.392363\n"
     ]
    }
   ],
   "source": [
    "print(result)"
   ]
  },
  {
   "cell_type": "code",
   "execution_count": null,
   "metadata": {},
   "outputs": [],
   "source": []
  }
 ],
 "metadata": {
  "kernelspec": {
   "display_name": "Python 3",
   "language": "python",
   "name": "python3"
  },
  "language_info": {
   "codemirror_mode": {
    "name": "ipython",
    "version": 3
   },
   "file_extension": ".py",
   "mimetype": "text/x-python",
   "name": "python",
   "nbconvert_exporter": "python",
   "pygments_lexer": "ipython3",
   "version": "3.7.1"
  }
 },
 "nbformat": 4,
 "nbformat_minor": 2
}
