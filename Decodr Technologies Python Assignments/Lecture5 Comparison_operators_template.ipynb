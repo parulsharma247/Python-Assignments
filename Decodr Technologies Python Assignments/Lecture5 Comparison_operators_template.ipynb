{
 "cells": [
  {
   "cell_type": "markdown",
   "metadata": {
    "colab_type": "text",
    "id": "uvM9fraFbUY4"
   },
   "source": [
    "# Comparison Operators"
   ]
  },
  {
   "cell_type": "code",
   "execution_count": 1,
   "metadata": {
    "colab": {
     "base_uri": "https://localhost:8080/",
     "height": 34
    },
    "colab_type": "code",
    "id": "Bfji40LKbUY_",
    "outputId": "4fbcd7fb-db96-4679-d041-8b2916665c7b"
   },
   "outputs": [
    {
     "data": {
      "text/plain": [
       "array([16.983, 11.424, 21.573, 14.256, 25.272])"
      ]
     },
     "execution_count": 1,
     "metadata": {},
     "output_type": "execute_result"
    }
   ],
   "source": [
    "import numpy as np\n",
    "np_length = np.array([2.7, 3.4, 4.7, 6.6, 7.8])\n",
    "np_breath = np.array([3.7, 1.4, 2.7, 3.6, 1.8])\n",
    "np_height = np.array([1.7, 2.4, 1.7, 0.6, 1.8])\n",
    "vol_cuboid = np_length * np_breath * np_height\n",
    "vol_cuboid"
   ]
  },
  {
   "cell_type": "markdown",
   "metadata": {
    "colab_type": "text",
    "id": "JLIhQWI0bUZg"
   },
   "source": [
    "Q1. Show the vol_cuboid which are greater than 15 (2 marks)"
   ]
  },
  {
   "cell_type": "code",
   "execution_count": 2,
   "metadata": {
    "colab": {
     "base_uri": "https://localhost:8080/",
     "height": 70
    },
    "colab_type": "code",
    "id": "_nc9KaDZbUZi",
    "outputId": "baca5551-4bb6-4a27-a130-0e76143a3f22"
   },
   "outputs": [
    {
     "name": "stdout",
     "output_type": "stream",
     "text": [
      "16.983000000000004\n",
      "21.573\n",
      "25.272\n"
     ]
    }
   ],
   "source": [
    "## Start code here\n",
    "for vol in vol_cuboid:\n",
    "    if vol > 15:\n",
    "        print(vol)\n",
    "## End here"
   ]
  },
  {
   "cell_type": "markdown",
   "metadata": {
    "colab_type": "text",
    "id": "3WuqP1YMbUZx"
   },
   "source": [
    "## Numeric & Variable Comparison"
   ]
  },
  {
   "cell_type": "markdown",
   "metadata": {
    "colab_type": "text",
    "id": "ABKi9Lo0bUZ2"
   },
   "source": [
    "Using comparison operators show:\n",
    "\n",
    "Q1. If 10.5 is greater thean 10 (1 mark)\n",
    "\n",
    "Q2. If 10.5 is greater than equal to 10.5 (1 mark)\n",
    "\n",
    "Q3. If 20 is equal to 20.1 (1 mark)\n",
    "\n",
    "Q4. If Ansh is greater than Anshu (1 mark)\n",
    "\n",
    "Q5. If Monkey is greater than 5 (1 mark)"
   ]
  },
  {
   "cell_type": "code",
   "execution_count": 3,
   "metadata": {
    "colab": {
     "base_uri": "https://localhost:8080/",
     "height": 34
    },
    "colab_type": "code",
    "id": "Rmcg5tX9bUZ7",
    "outputId": "6bbb6814-41ac-4a1e-8810-21534e928c22"
   },
   "outputs": [
    {
     "name": "stdout",
     "output_type": "stream",
     "text": [
      "True\n"
     ]
    }
   ],
   "source": [
    "# 1\n",
    "## Start code here\n",
    "if 10.5 > 10:\n",
    "  print(True)\n",
    "else:\n",
    "  print(False)\n",
    "## End here"
   ]
  },
  {
   "cell_type": "code",
   "execution_count": 4,
   "metadata": {
    "colab": {
     "base_uri": "https://localhost:8080/",
     "height": 34
    },
    "colab_type": "code",
    "id": "RkoC3GiJbUaL",
    "outputId": "33a70997-dc9b-443c-b3ef-694083f65687"
   },
   "outputs": [
    {
     "name": "stdout",
     "output_type": "stream",
     "text": [
      "True\n"
     ]
    }
   ],
   "source": [
    "# 2\n",
    "## Start code here\n",
    "if 10.5 >= 10.5:\n",
    "  print(True)\n",
    "else:\n",
    "  print(False)\n",
    "## End here"
   ]
  },
  {
   "cell_type": "code",
   "execution_count": 5,
   "metadata": {
    "colab": {
     "base_uri": "https://localhost:8080/",
     "height": 34
    },
    "colab_type": "code",
    "id": "ia5nHeOLbUae",
    "outputId": "7dc9dfdd-3941-4e00-e084-94ea9d93b988"
   },
   "outputs": [
    {
     "name": "stdout",
     "output_type": "stream",
     "text": [
      "False\n"
     ]
    }
   ],
   "source": [
    "# 3\n",
    "## Start code here\n",
    "if 20 == 20.1:\n",
    "  print(True)\n",
    "else:\n",
    "  print(False)\n",
    "## End here"
   ]
  },
  {
   "cell_type": "code",
   "execution_count": 6,
   "metadata": {
    "colab": {
     "base_uri": "https://localhost:8080/",
     "height": 34
    },
    "colab_type": "code",
    "id": "GVEU_mohbUau",
    "outputId": "e354be7b-2070-4ec6-cf71-9835a8642985"
   },
   "outputs": [
    {
     "name": "stdout",
     "output_type": "stream",
     "text": [
      "False\n"
     ]
    }
   ],
   "source": [
    "# 4\n",
    "## Start code here\n",
    "if 'Ansh' > 'Anshu':\n",
    "  print(True)\n",
    "else:\n",
    "  print(False)\n",
    "## End here"
   ]
  },
  {
   "cell_type": "code",
   "execution_count": 7,
   "metadata": {
    "colab": {
     "base_uri": "https://localhost:8080/",
     "height": 34
    },
    "colab_type": "code",
    "id": "HhNba_TubUbA",
    "outputId": "cdad4645-d7c6-4e40-ac9b-eacd864693ec"
   },
   "outputs": [
    {
     "name": "stdout",
     "output_type": "stream",
     "text": [
      "True\n"
     ]
    }
   ],
   "source": [
    "# 5\n",
    "## Start code here\n",
    "if len('Monkey') > 5:\n",
    "  print(True)\n",
    "else:\n",
    "  print(False)\n",
    "## End here"
   ]
  },
  {
   "cell_type": "markdown",
   "metadata": {
    "colab_type": "text",
    "id": "DABSTPinbUbV"
   },
   "source": [
    "## Boolean Operators\n",
    "\n",
    "1. and\n",
    "2. or\n",
    "3. not"
   ]
  },
  {
   "cell_type": "markdown",
   "metadata": {
    "colab_type": "text",
    "id": "v3LSjkJDbUbl"
   },
   "source": [
    "Q1. Use \"and\" operator to check if x is greater than 2 and less than 10. (1 mark)\n",
    "\n",
    "Q2. Use \"or\" operator to check if x is grater than 3 and less than 10. (1 mark)\n",
    "\n",
    "Q3. Use \"not\" operator to check if x is greater than 5 and less than 8. (1 mark)"
   ]
  },
  {
   "cell_type": "code",
   "execution_count": 55,
   "metadata": {
    "colab": {
     "base_uri": "https://localhost:8080/",
     "height": 132
    },
    "colab_type": "code",
    "id": "zIsEGcI7bUbp",
    "outputId": "0add822b-74f3-41b5-9416-342df04c6825"
   },
   "outputs": [
    {
     "data": {
      "text/plain": [
       "False"
      ]
     },
     "execution_count": 55,
     "metadata": {},
     "output_type": "execute_result"
    }
   ],
   "source": [
    "# 1\n",
    "## Start code here\n",
    "x = 1\n",
    "2<x and x<10"
   ]
  },
  {
   "cell_type": "code",
   "execution_count": 56,
   "metadata": {
    "colab": {
     "base_uri": "https://localhost:8080/",
     "height": 34
    },
    "colab_type": "code",
    "id": "PPA-d8s-bUb0",
    "outputId": "e82bf34d-ec19-4210-ac8a-1e151686f6b2"
   },
   "outputs": [
    {
     "data": {
      "text/plain": [
       "True"
      ]
     },
     "execution_count": 56,
     "metadata": {},
     "output_type": "execute_result"
    }
   ],
   "source": [
    "# 2\n",
    "## Start code here\n",
    "x>3 or x <10\n",
    "## End here"
   ]
  },
  {
   "cell_type": "code",
   "execution_count": 58,
   "metadata": {
    "colab": {
     "base_uri": "https://localhost:8080/",
     "height": 34
    },
    "colab_type": "code",
    "id": "5LWI5AD5bUcD",
    "outputId": "e1ac8d36-f389-476e-d425-b85a46acaf05"
   },
   "outputs": [
    {
     "data": {
      "text/plain": [
       "True"
      ]
     },
     "execution_count": 58,
     "metadata": {},
     "output_type": "execute_result"
    }
   ],
   "source": [
    "# 3\n",
    "## Start code here\n",
    "not(x<5 and x>8)"
   ]
  },
  {
   "cell_type": "markdown",
   "metadata": {
    "colab_type": "text",
    "id": "coqU7ghubUcR"
   },
   "source": [
    "## Numpy\n",
    "\n",
    "1. logical_and()\n",
    "2. logical_or()\n",
    "3. logical_not()"
   ]
  },
  {
   "cell_type": "markdown",
   "metadata": {
    "colab_type": "text",
    "id": "-vFLvBvkbUcW"
   },
   "source": [
    "Q1. Use the logical_and operator to check if vol_cuboid is greater than 11 and less than 20. (1 mark)\n",
    "\n",
    "Q2. Use the logical_or operator to check if vol_cuboid is greater than 11 and less than 20. (1 mark)\n",
    "\n",
    "Q3. Use the logical_not operator to check if vol_cuboid is greater than 11 and less than 20. (1 mark)"
   ]
  },
  {
   "cell_type": "code",
   "execution_count": 16,
   "metadata": {
    "colab": {
     "base_uri": "https://localhost:8080/",
     "height": 238
    },
    "colab_type": "code",
    "id": "BqeQ_XunbUcY",
    "outputId": "3af8b591-eb5e-4965-af31-a8924510b260"
   },
   "outputs": [
    {
     "name": "stdout",
     "output_type": "stream",
     "text": [
      "16.983000000000004\n",
      "11.424\n",
      "14.255999999999998\n"
     ]
    }
   ],
   "source": [
    "# 1\n",
    "## Start code here\n",
    "for vol in vol_cuboid:\n",
    "    if (vol>11) and (vol<20):\n",
    "        print(vol)\n",
    "## End here"
   ]
  },
  {
   "cell_type": "code",
   "execution_count": 17,
   "metadata": {
    "colab": {},
    "colab_type": "code",
    "id": "G8tVbzJDbUci"
   },
   "outputs": [
    {
     "name": "stdout",
     "output_type": "stream",
     "text": [
      "16.983000000000004\n",
      "11.424\n",
      "21.573\n",
      "14.255999999999998\n",
      "25.272\n"
     ]
    }
   ],
   "source": [
    "# 2\n",
    "## Start code here\n",
    "for vol in vol_cuboid:\n",
    "    if (vol>11) or (vol<20):\n",
    "        print(vol)\n",
    "## End here"
   ]
  },
  {
   "cell_type": "code",
   "execution_count": 18,
   "metadata": {
    "colab": {},
    "colab_type": "code",
    "id": "rNSq7lcLbUcq"
   },
   "outputs": [
    {
     "name": "stdout",
     "output_type": "stream",
     "text": [
      "16.983000000000004\n",
      "11.424\n",
      "21.573\n",
      "14.255999999999998\n",
      "25.272\n"
     ]
    }
   ],
   "source": [
    "# 3\n",
    "## Start code here\n",
    "for vol in vol_cuboid:\n",
    "    if ~(vol<11 and vol>20):\n",
    "        print(vol)\n",
    "## End here"
   ]
  },
  {
   "cell_type": "markdown",
   "metadata": {
    "colab_type": "text",
    "id": "YbrBIFOsbUc1"
   },
   "source": [
    "## if , elif , else"
   ]
  },
  {
   "cell_type": "code",
   "execution_count": 20,
   "metadata": {
    "colab": {},
    "colab_type": "code",
    "id": "H6RTjeJFbUc3"
   },
   "outputs": [],
   "source": [
    "a = 100\n",
    "b = 10"
   ]
  },
  {
   "cell_type": "markdown",
   "metadata": {
    "colab_type": "text",
    "id": "5lUd6qqGbUdG"
   },
   "source": [
    "Q1. Use if condition statment to check if a is greater than b and print the greatest number. (1 mark)\n",
    "\n",
    "Q2. Use else condition statment to check if b is greater or less than a and print the greatest number. (1 mark)\n",
    "\n",
    "Q3. Use elif condition statment to check if b is greater , less than or equal to a and print the greatest number. (1 mark)"
   ]
  },
  {
   "cell_type": "code",
   "execution_count": 21,
   "metadata": {
    "colab": {},
    "colab_type": "code",
    "id": "DpMO_VUkbUdK"
   },
   "outputs": [
    {
     "name": "stdout",
     "output_type": "stream",
     "text": [
      "100\n"
     ]
    }
   ],
   "source": [
    "# 1\n",
    "## Start code here\n",
    "if a>b:\n",
    "    print(a)\n",
    "else:\n",
    "    print(b)\n",
    "\n",
    "## End here"
   ]
  },
  {
   "cell_type": "code",
   "execution_count": 22,
   "metadata": {
    "colab": {},
    "colab_type": "code",
    "id": "5GvRz_CdbUdb"
   },
   "outputs": [
    {
     "name": "stdout",
     "output_type": "stream",
     "text": [
      "10\n"
     ]
    }
   ],
   "source": [
    "# 2\n",
    "## Start code here\n",
    "if a<b:\n",
    "    print(a)\n",
    "else:\n",
    "    print(b)\n",
    "## End here"
   ]
  },
  {
   "cell_type": "code",
   "execution_count": 23,
   "metadata": {
    "colab": {},
    "colab_type": "code",
    "id": "TPIjPp0SbUeS"
   },
   "outputs": [
    {
     "name": "stdout",
     "output_type": "stream",
     "text": [
      "10\n"
     ]
    }
   ],
   "source": [
    "# 3\n",
    "## Start code here\n",
    "if a<b:\n",
    "    print(a)\n",
    "elif a>b:\n",
    "    print(b)\n",
    "## End here"
   ]
  },
  {
   "cell_type": "markdown",
   "metadata": {
    "colab_type": "text",
    "id": "Op2hIm-gbUer"
   },
   "source": [
    "## Filtering pandas Dataframes"
   ]
  },
  {
   "cell_type": "code",
   "execution_count": 24,
   "metadata": {
    "colab": {},
    "colab_type": "code",
    "id": "YF8nXoRObUes"
   },
   "outputs": [
    {
     "data": {
      "text/html": [
       "<div>\n",
       "<style scoped>\n",
       "    .dataframe tbody tr th:only-of-type {\n",
       "        vertical-align: middle;\n",
       "    }\n",
       "\n",
       "    .dataframe tbody tr th {\n",
       "        vertical-align: top;\n",
       "    }\n",
       "\n",
       "    .dataframe thead th {\n",
       "        text-align: right;\n",
       "    }\n",
       "</style>\n",
       "<table border=\"1\" class=\"dataframe\">\n",
       "  <thead>\n",
       "    <tr style=\"text-align: right;\">\n",
       "      <th></th>\n",
       "      <th>Name</th>\n",
       "      <th>Degree</th>\n",
       "      <th>College</th>\n",
       "      <th>Score</th>\n",
       "    </tr>\n",
       "  </thead>\n",
       "  <tbody>\n",
       "    <tr>\n",
       "      <th>0</th>\n",
       "      <td>aparna</td>\n",
       "      <td>Bsc</td>\n",
       "      <td>VIT</td>\n",
       "      <td>90</td>\n",
       "    </tr>\n",
       "    <tr>\n",
       "      <th>1</th>\n",
       "      <td>pankaj</td>\n",
       "      <td>Engineering</td>\n",
       "      <td>IIT</td>\n",
       "      <td>70</td>\n",
       "    </tr>\n",
       "    <tr>\n",
       "      <th>2</th>\n",
       "      <td>sudhir</td>\n",
       "      <td>Law</td>\n",
       "      <td>KIIT</td>\n",
       "      <td>80</td>\n",
       "    </tr>\n",
       "    <tr>\n",
       "      <th>3</th>\n",
       "      <td>Geeku</td>\n",
       "      <td>MBBS</td>\n",
       "      <td>AIMS</td>\n",
       "      <td>98</td>\n",
       "    </tr>\n",
       "    <tr>\n",
       "      <th>4</th>\n",
       "      <td>Chiku</td>\n",
       "      <td>Phd</td>\n",
       "      <td>IIIT</td>\n",
       "      <td>76</td>\n",
       "    </tr>\n",
       "    <tr>\n",
       "      <th>5</th>\n",
       "      <td>Jeniffer</td>\n",
       "      <td>Nursing</td>\n",
       "      <td>APPOLO</td>\n",
       "      <td>89</td>\n",
       "    </tr>\n",
       "  </tbody>\n",
       "</table>\n",
       "</div>"
      ],
      "text/plain": [
       "       Name       Degree College  Score\n",
       "0    aparna          Bsc     VIT     90\n",
       "1    pankaj  Engineering     IIT     70\n",
       "2    sudhir          Law    KIIT     80\n",
       "3     Geeku         MBBS    AIMS     98\n",
       "4     Chiku          Phd    IIIT     76\n",
       "5  Jeniffer      Nursing  APPOLO     89"
      ]
     },
     "execution_count": 24,
     "metadata": {},
     "output_type": "execute_result"
    }
   ],
   "source": [
    "df = {\n",
    "    \"Name\": [\"aparna\", \"pankaj\", \"sudhir\", \"Geeku\", \"Chiku\", \"Jeniffer\"], \n",
    "    \"Degree\": [\"Bsc\", \"Engineering\", \"Law\", \"MBBS\", \"Phd\", \"Nursing\"],\n",
    "    \"College\": [\"VIT\", \"IIT\", \"KIIT\", \"AIMS\", \"IIIT\", \"APPOLO\"],\n",
    "    \"Score\": [90, 70, 80, 98, 76, 89]} \n",
    "\n",
    "import pandas as pd\n",
    "dataframe = pd.DataFrame(df)\n",
    "dataframe"
   ]
  },
  {
   "cell_type": "markdown",
   "metadata": {
    "colab_type": "text",
    "id": "VjRttRMXbUe3"
   },
   "source": [
    "Q1. Access the Score column. (2 mark)\n",
    "\n",
    "Q2. Use comparison operator to show which students has score greater than 80. (1 mark)\n",
    "\n",
    "Q3. Use logical_and operator to see scores greater than 75 and less than 90. (1 mark)"
   ]
  },
  {
   "cell_type": "code",
   "execution_count": 26,
   "metadata": {
    "colab": {},
    "colab_type": "code",
    "id": "qdKN017abUe5"
   },
   "outputs": [
    {
     "data": {
      "text/plain": [
       "0    90\n",
       "1    70\n",
       "2    80\n",
       "3    98\n",
       "4    76\n",
       "5    89\n",
       "Name: Score, dtype: int64"
      ]
     },
     "execution_count": 26,
     "metadata": {},
     "output_type": "execute_result"
    }
   ],
   "source": [
    "# 1\n",
    "## Start code here\n",
    "dataframe.Score\n",
    "## End here"
   ]
  },
  {
   "cell_type": "code",
   "execution_count": 41,
   "metadata": {
    "colab": {},
    "colab_type": "code",
    "id": "lE7IgjDhbUfM"
   },
   "outputs": [
    {
     "data": {
      "text/html": [
       "<div>\n",
       "<style scoped>\n",
       "    .dataframe tbody tr th:only-of-type {\n",
       "        vertical-align: middle;\n",
       "    }\n",
       "\n",
       "    .dataframe tbody tr th {\n",
       "        vertical-align: top;\n",
       "    }\n",
       "\n",
       "    .dataframe thead th {\n",
       "        text-align: right;\n",
       "    }\n",
       "</style>\n",
       "<table border=\"1\" class=\"dataframe\">\n",
       "  <thead>\n",
       "    <tr style=\"text-align: right;\">\n",
       "      <th></th>\n",
       "      <th>Name</th>\n",
       "      <th>Degree</th>\n",
       "      <th>College</th>\n",
       "      <th>Score</th>\n",
       "    </tr>\n",
       "  </thead>\n",
       "  <tbody>\n",
       "    <tr>\n",
       "      <th>0</th>\n",
       "      <td>aparna</td>\n",
       "      <td>Bsc</td>\n",
       "      <td>VIT</td>\n",
       "      <td>90</td>\n",
       "    </tr>\n",
       "    <tr>\n",
       "      <th>3</th>\n",
       "      <td>Geeku</td>\n",
       "      <td>MBBS</td>\n",
       "      <td>AIMS</td>\n",
       "      <td>98</td>\n",
       "    </tr>\n",
       "    <tr>\n",
       "      <th>5</th>\n",
       "      <td>Jeniffer</td>\n",
       "      <td>Nursing</td>\n",
       "      <td>APPOLO</td>\n",
       "      <td>89</td>\n",
       "    </tr>\n",
       "  </tbody>\n",
       "</table>\n",
       "</div>"
      ],
      "text/plain": [
       "       Name   Degree College  Score\n",
       "0    aparna      Bsc     VIT     90\n",
       "3     Geeku     MBBS    AIMS     98\n",
       "5  Jeniffer  Nursing  APPOLO     89"
      ]
     },
     "execution_count": 41,
     "metadata": {},
     "output_type": "execute_result"
    }
   ],
   "source": [
    "# 2\n",
    "## Start code here\n",
    "dataframe[dataframe['Score'] >80]\n",
    "## End here"
   ]
  },
  {
   "cell_type": "code",
   "execution_count": 50,
   "metadata": {
    "colab": {},
    "colab_type": "code",
    "id": "M2VpEuoUbUff"
   },
   "outputs": [
    {
     "data": {
      "text/html": [
       "<div>\n",
       "<style scoped>\n",
       "    .dataframe tbody tr th:only-of-type {\n",
       "        vertical-align: middle;\n",
       "    }\n",
       "\n",
       "    .dataframe tbody tr th {\n",
       "        vertical-align: top;\n",
       "    }\n",
       "\n",
       "    .dataframe thead th {\n",
       "        text-align: right;\n",
       "    }\n",
       "</style>\n",
       "<table border=\"1\" class=\"dataframe\">\n",
       "  <thead>\n",
       "    <tr style=\"text-align: right;\">\n",
       "      <th></th>\n",
       "      <th>Name</th>\n",
       "      <th>Degree</th>\n",
       "      <th>College</th>\n",
       "      <th>Score</th>\n",
       "    </tr>\n",
       "  </thead>\n",
       "  <tbody>\n",
       "    <tr>\n",
       "      <th>2</th>\n",
       "      <td>sudhir</td>\n",
       "      <td>Law</td>\n",
       "      <td>KIIT</td>\n",
       "      <td>80</td>\n",
       "    </tr>\n",
       "    <tr>\n",
       "      <th>4</th>\n",
       "      <td>Chiku</td>\n",
       "      <td>Phd</td>\n",
       "      <td>IIIT</td>\n",
       "      <td>76</td>\n",
       "    </tr>\n",
       "    <tr>\n",
       "      <th>5</th>\n",
       "      <td>Jeniffer</td>\n",
       "      <td>Nursing</td>\n",
       "      <td>APPOLO</td>\n",
       "      <td>89</td>\n",
       "    </tr>\n",
       "  </tbody>\n",
       "</table>\n",
       "</div>"
      ],
      "text/plain": [
       "       Name   Degree College  Score\n",
       "2    sudhir      Law    KIIT     80\n",
       "4     Chiku      Phd    IIIT     76\n",
       "5  Jeniffer  Nursing  APPOLO     89"
      ]
     },
     "execution_count": 50,
     "metadata": {},
     "output_type": "execute_result"
    }
   ],
   "source": [
    "# 3\n",
    "## Start code here\n",
    "dataframe[(dataframe['Score']>75) & (dataframe['Score']<90)]\n",
    "## End here"
   ]
  },
  {
   "cell_type": "code",
   "execution_count": null,
   "metadata": {},
   "outputs": [],
   "source": []
  }
 ],
 "metadata": {
  "colab": {
   "name": "Comparison operators template.ipynb",
   "provenance": []
  },
  "kernelspec": {
   "display_name": "Python 3",
   "language": "python",
   "name": "python3"
  },
  "language_info": {
   "codemirror_mode": {
    "name": "ipython",
    "version": 3
   },
   "file_extension": ".py",
   "mimetype": "text/x-python",
   "name": "python",
   "nbconvert_exporter": "python",
   "pygments_lexer": "ipython3",
   "version": "3.7.7"
  }
 },
 "nbformat": 4,
 "nbformat_minor": 1
}
