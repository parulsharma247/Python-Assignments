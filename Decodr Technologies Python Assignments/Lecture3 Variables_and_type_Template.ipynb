{
  "nbformat": 4,
  "nbformat_minor": 0,
  "metadata": {
    "kernelspec": {
      "display_name": "Python 3",
      "language": "python",
      "name": "python3"
    },
    "language_info": {
      "codemirror_mode": {
        "name": "ipython",
        "version": 3
      },
      "file_extension": ".py",
      "mimetype": "text/x-python",
      "name": "python",
      "nbconvert_exporter": "python",
      "pygments_lexer": "ipython3",
      "version": "3.7.6"
    },
    "colab": {
      "name": "Variables and type Template.ipynb",
      "provenance": []
    }
  },
  "cells": [
    {
      "cell_type": "markdown",
      "metadata": {
        "id": "7Q9AnN-IKNxT",
        "colab_type": "text"
      },
      "source": [
        "# Variables \n",
        "Variables hold values. Python lets you create variables simply by assigning a value to the variable, without the need to declare the variable upfront. The value assigned to a variable determines the variable type. Different types may support some operations which others don't. "
      ]
    },
    {
      "cell_type": "markdown",
      "metadata": {
        "id": "FvhY6Y6IKNxa",
        "colab_type": "text"
      },
      "source": [
        "If you enter *one = 1* in the Python interpreter and hit \"Enter\", the interpreter will just show you a new line prompt."
      ]
    },
    {
      "cell_type": "code",
      "metadata": {
        "id": "zbvxnDbyKNxf",
        "colab_type": "code",
        "colab": {}
      },
      "source": [
        "one = 1"
      ],
      "execution_count": null,
      "outputs": []
    },
    {
      "cell_type": "markdown",
      "metadata": {
        "id": "Tz4YfYStKNx3",
        "colab_type": "text"
      },
      "source": [
        "It did not show anything, right. But Python actually did a few things:\n",
        "\n",
        "A variable named one was created. The value 1 was assigned to the variable one.\n",
        "\n",
        "This is not apparent from the blank line output. But the interpreter can show you the value of any variable if you just type the variable name and hit enter:"
      ]
    },
    {
      "cell_type": "code",
      "metadata": {
        "id": "TJOSjhorKNx6",
        "colab_type": "code",
        "colab": {},
        "outputId": "c670f80f-f484-4622-e8ac-cac1cd2746dc"
      },
      "source": [
        "one"
      ],
      "execution_count": null,
      "outputs": [
        {
          "output_type": "execute_result",
          "data": {
            "text/plain": [
              "1"
            ]
          },
          "metadata": {
            "tags": []
          },
          "execution_count": 3
        }
      ]
    },
    {
      "cell_type": "markdown",
      "metadata": {
        "id": "zG9NNevnKNy5",
        "colab_type": "text"
      },
      "source": [
        "Q1. Create a variable \"length\", \"breath\" and \"height\" with values 10, 15, 30 consecutively. (2 marks)\n",
        "\n",
        "Q2. Create a variable \"volume\" and find the volume of cuboid using the above variabels. Formula to find volume of cuboid is (vol = length * breath * height) (2 marks)"
      ]
    },
    {
      "cell_type": "code",
      "metadata": {
        "id": "sxT7rxynKNy7",
        "colab_type": "code",
        "colab": {}
      },
      "source": [
        "## 1. Start code here\n",
        "length, breadth, height = 10,15,30\n",
        "## End code here"
      ],
      "execution_count": 2,
      "outputs": []
    },
    {
      "cell_type": "code",
      "metadata": {
        "id": "nRhoML61KNzM",
        "colab_type": "code",
        "colab": {
          "base_uri": "https://localhost:8080/",
          "height": 34
        },
        "outputId": "bc3e4386-a367-46d1-e141-ed0f223c3aa6"
      },
      "source": [
        "## 2. Start code here\n",
        "vol = print(length*breadth*height)\n",
        "## End code here"
      ],
      "execution_count": 3,
      "outputs": [
        {
          "output_type": "stream",
          "text": [
            "4500\n"
          ],
          "name": "stdout"
        }
      ]
    },
    {
      "cell_type": "markdown",
      "metadata": {
        "id": "CPF3NxLzKNzb",
        "colab_type": "text"
      },
      "source": [
        "# Multiple Assignment\n",
        "Python allows you to assign a single value to several variables simultaneously. For example - "
      ]
    },
    {
      "cell_type": "code",
      "metadata": {
        "id": "2JB5dHaKKNzd",
        "colab_type": "code",
        "colab": {}
      },
      "source": [
        "a = b = c = 1"
      ],
      "execution_count": null,
      "outputs": []
    },
    {
      "cell_type": "markdown",
      "metadata": {
        "id": "CedwgB_dKNzs",
        "colab_type": "text"
      },
      "source": [
        "Here, an integer object is created with the value 1, and all three variables are assigned to the same memory location. You can also assign multiple objects to multiple variables. For example −"
      ]
    },
    {
      "cell_type": "code",
      "metadata": {
        "id": "jPiYZ_4sKNzu",
        "colab_type": "code",
        "colab": {}
      },
      "source": [
        "a,b,c = 1,2,\"john\""
      ],
      "execution_count": null,
      "outputs": []
    },
    {
      "cell_type": "markdown",
      "metadata": {
        "id": "nkFB1y2eKNz_",
        "colab_type": "text"
      },
      "source": [
        "Q1. Create multiple variables ,i.e (\"a\", \"b\", \"c\") and store the value 10 in it and print any of its variable . (2 marks)\n",
        "\n",
        "Q2. Create a variable (\"x\",\"y\", \"z\") and store the value \"Height\", \"is\", \"6feet\" consecutively in it and print any of its stored value. (2 marks)  "
      ]
    },
    {
      "cell_type": "code",
      "metadata": {
        "id": "ce4YBEuVKN0D",
        "colab_type": "code",
        "colab": {}
      },
      "source": [
        "## 1. Start code here\n",
        "a=b=c=10\n",
        "## End code here"
      ],
      "execution_count": 4,
      "outputs": []
    },
    {
      "cell_type": "code",
      "metadata": {
        "id": "YNOOCWpxKN0M",
        "colab_type": "code",
        "colab": {}
      },
      "source": [
        "## 2. Start code here\n",
        "x,y,z = \"Height\", \"is\", \"6feet\"\n",
        "## End code here"
      ],
      "execution_count": 5,
      "outputs": []
    },
    {
      "cell_type": "markdown",
      "metadata": {
        "id": "cHs8dkXQKN0W",
        "colab_type": "text"
      },
      "source": [
        "# Python Types\n",
        "Python tracks the value of a variable by letting you access it via the variable name. Python also tracks the type of the value assigned to a variable. To tell what the value type is, you can use the built-in **type()** function. In the following examples, we use the **type()** function to display the value type:"
      ]
    },
    {
      "cell_type": "code",
      "metadata": {
        "id": "OGn4dIyTKN0Y",
        "colab_type": "code",
        "colab": {},
        "outputId": "f32e759b-2d13-43d9-949e-f1109ab4d5a8"
      },
      "source": [
        "x = 42\n",
        "print(type(x))"
      ],
      "execution_count": null,
      "outputs": [
        {
          "output_type": "stream",
          "text": [
            "<class 'int'>\n"
          ],
          "name": "stdout"
        }
      ]
    },
    {
      "cell_type": "markdown",
      "metadata": {
        "id": "ID4D-iONKN0j",
        "colab_type": "text"
      },
      "source": [
        "Q1. Create a variable \"types\" and store the value \"10.5\" in it and find its type. (2 marks)\n",
        "\n",
        "Q2. Create a variable \"x\" and store the value \"False\" in it and find the its type. (2 marks)\n",
        "\n",
        "Q3. Create a variable \"z\" and store the value \"Happy Learning\" in it and find the its type. (2 marks)"
      ]
    },
    {
      "cell_type": "code",
      "metadata": {
        "id": "d-6DF4HVKN0m",
        "colab_type": "code",
        "colab": {
          "base_uri": "https://localhost:8080/",
          "height": 34
        },
        "outputId": "be0db274-30c7-467f-cbf7-bb468b09726c"
      },
      "source": [
        "## 1. Start code here\n",
        "types=10.5\n",
        "type(types)\n",
        "## End code here"
      ],
      "execution_count": 6,
      "outputs": [
        {
          "output_type": "execute_result",
          "data": {
            "text/plain": [
              "float"
            ]
          },
          "metadata": {
            "tags": []
          },
          "execution_count": 6
        }
      ]
    },
    {
      "cell_type": "code",
      "metadata": {
        "id": "bvuJ2PghKN0x",
        "colab_type": "code",
        "colab": {
          "base_uri": "https://localhost:8080/",
          "height": 34
        },
        "outputId": "f62d2002-1c07-40b4-f246-8b4c55b0139a"
      },
      "source": [
        "## 2. Start code here\n",
        "x=False\n",
        "type(x)\n",
        "## End code here"
      ],
      "execution_count": 7,
      "outputs": [
        {
          "output_type": "execute_result",
          "data": {
            "text/plain": [
              "bool"
            ]
          },
          "metadata": {
            "tags": []
          },
          "execution_count": 7
        }
      ]
    },
    {
      "cell_type": "code",
      "metadata": {
        "id": "1jBjQE4bKN0-",
        "colab_type": "code",
        "colab": {
          "base_uri": "https://localhost:8080/",
          "height": 34
        },
        "outputId": "bbf51fcb-059e-444c-d048-22c48cc0d9c8"
      },
      "source": [
        "## 3. Start code here\n",
        "z= \"Happy Learning\"\n",
        "type(z)\n",
        "## End code here"
      ],
      "execution_count": 8,
      "outputs": [
        {
          "output_type": "execute_result",
          "data": {
            "text/plain": [
              "str"
            ]
          },
          "metadata": {
            "tags": []
          },
          "execution_count": 8
        }
      ]
    },
    {
      "cell_type": "markdown",
      "metadata": {
        "id": "wri3VhTLKN1Q",
        "colab_type": "text"
      },
      "source": [
        "# Python List and types\n",
        "The list type is a container that holds a number of other objects, in a given order. The list type implements the sequence protocol, and also allows you to add and remove objects from the sequence."
      ]
    },
    {
      "cell_type": "markdown",
      "metadata": {
        "id": "Ok5dIb04KN1S",
        "colab_type": "text"
      },
      "source": [
        "Q1. Create a list which contains name and height from the given data. [ Name: (Frenky, Noob, Rolly, Julie) and Height: (5.5, 5.8, 5.2, 6)]. (2 marks)\n",
        "\n",
        "Q2. Show the type of list you just created in Q1. (1 marks)\n",
        "\n",
        "Q3. Create a list containing values [1, 5 ,7 and 8] and sum all the items in the list. (2 marks)\n",
        "    \n",
        "Q4. Show the type of the list you just created in Q2. (1 marks)"
      ]
    },
    {
      "cell_type": "code",
      "metadata": {
        "id": "Jx_t1qv0KN1V",
        "colab_type": "code",
        "colab": {}
      },
      "source": [
        "## 1. Start code here\n",
        "Name = ['Frenky', 'Noob', 'Rolly', 'Julie']\n",
        "Height = [5.5, 5.8, 5.2, 6]\n",
        "name_height_list = list(zip(Name, Height))\n",
        "## End code here"
      ],
      "execution_count": 10,
      "outputs": []
    },
    {
      "cell_type": "code",
      "metadata": {
        "id": "eKmyG_ktKN1f",
        "colab_type": "code",
        "colab": {
          "base_uri": "https://localhost:8080/",
          "height": 34
        },
        "outputId": "398fc3ff-c93c-4b29-dbc9-61f9c38b2f60"
      },
      "source": [
        "## 2. Start code here\n",
        "type(name_height_list)\n",
        "## End code here"
      ],
      "execution_count": 11,
      "outputs": [
        {
          "output_type": "execute_result",
          "data": {
            "text/plain": [
              "list"
            ]
          },
          "metadata": {
            "tags": []
          },
          "execution_count": 11
        }
      ]
    },
    {
      "cell_type": "code",
      "metadata": {
        "id": "EInwfeVSKN1s",
        "colab_type": "code",
        "colab": {
          "base_uri": "https://localhost:8080/",
          "height": 34
        },
        "outputId": "fa8c63e6-6666-40ae-ded2-36e4a5896076"
      },
      "source": [
        "## 3. Start code here\n",
        "list1 = [1,5,7,8]\n",
        "sum=[0]\n",
        "for i in list1:\n",
        "  sum[0]=i+sum[0]\n",
        "\n",
        "print(sum)\n",
        "## End code here"
      ],
      "execution_count": 20,
      "outputs": [
        {
          "output_type": "stream",
          "text": [
            "[21]\n"
          ],
          "name": "stdout"
        }
      ]
    },
    {
      "cell_type": "code",
      "metadata": {
        "id": "YZqak9tSKN12",
        "colab_type": "code",
        "colab": {
          "base_uri": "https://localhost:8080/",
          "height": 34
        },
        "outputId": "e6fcb107-e301-4e98-8e84-9d96759307b3"
      },
      "source": [
        "## 4. Start code here\n",
        "type(sum)\n",
        "## End code here"
      ],
      "execution_count": 21,
      "outputs": [
        {
          "output_type": "execute_result",
          "data": {
            "text/plain": [
              "list"
            ]
          },
          "metadata": {
            "tags": []
          },
          "execution_count": 21
        }
      ]
    }
  ]
}