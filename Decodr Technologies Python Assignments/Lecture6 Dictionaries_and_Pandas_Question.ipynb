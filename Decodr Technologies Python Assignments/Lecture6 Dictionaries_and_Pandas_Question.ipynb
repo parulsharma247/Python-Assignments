{
  "nbformat": 4,
  "nbformat_minor": 0,
  "metadata": {
    "kernelspec": {
      "display_name": "Python 3",
      "language": "python",
      "name": "python3"
    },
    "language_info": {
      "codemirror_mode": {
        "name": "ipython",
        "version": 3
      },
      "file_extension": ".py",
      "mimetype": "text/x-python",
      "name": "python",
      "nbconvert_exporter": "python",
      "pygments_lexer": "ipython3",
      "version": "3.7.6"
    },
    "colab": {
      "name": "Dictionaries and Pandas Question.ipynb",
      "provenance": []
    }
  },
  "cells": [
    {
      "cell_type": "markdown",
      "metadata": {
        "id": "an9LPNfL-2OM",
        "colab_type": "text"
      },
      "source": [
        "# Dictionaries"
      ]
    },
    {
      "cell_type": "markdown",
      "metadata": {
        "id": "Ktj-iDm1-2OT",
        "colab_type": "text"
      },
      "source": [
        "## List\n",
        "\n",
        "Q1. From the below list find the index value of \"Mangoes\" and then using the index value find the quantity of mangoes. (1 mark)"
      ]
    },
    {
      "cell_type": "code",
      "metadata": {
        "id": "2roMtbOs-2OW",
        "colab_type": "code",
        "colab": {}
      },
      "source": [
        "fruits = [\"Apple\", \"Oranges\", \"Kiwi\", \"Mangoes\", \"Banana\"]\n",
        "Quantity = [7, 5, 10, 8, 3]"
      ],
      "execution_count": 3,
      "outputs": []
    },
    {
      "cell_type": "code",
      "metadata": {
        "id": "uC9J8NHT-2On",
        "colab_type": "code",
        "colab": {
          "base_uri": "https://localhost:8080/",
          "height": 34
        },
        "outputId": "1c125a94-ac84-4b7e-8190-7855d093d9a1"
      },
      "source": [
        "### START CODE HERE : \n",
        "mangoes_index = fruits.index('Mangoes')\n",
        "Quantity[mangoes_index]\n",
        "### END CODE"
      ],
      "execution_count": 5,
      "outputs": [
        {
          "output_type": "execute_result",
          "data": {
            "text/plain": [
              "8"
            ]
          },
          "metadata": {
            "tags": []
          },
          "execution_count": 5
        }
      ]
    },
    {
      "cell_type": "markdown",
      "metadata": {
        "id": "u4t8cLnR-2Oz",
        "colab_type": "text"
      },
      "source": [
        "Since these is not so convenient method so instead we use dictionary\n",
        "\n",
        "## Dictionary\n",
        "\n",
        "Q1. From the below dictionary find the quantity of \"Banana\". (1 mark)"
      ]
    },
    {
      "cell_type": "code",
      "metadata": {
        "id": "GjUui3XP-2O4",
        "colab_type": "code",
        "colab": {
          "base_uri": "https://localhost:8080/",
          "height": 34
        },
        "outputId": "ec094099-c618-4d65-ca3c-1085895b5ce1"
      },
      "source": [
        "dict = {\"Apple\":7, \"Oranges\":5, \"Kiwi\":10, \"Mangoes\":8, \"Banana\":3}\n",
        "\n",
        "### START CODE HERE : \n",
        "dict['Banana']\n",
        "### END CODE"
      ],
      "execution_count": 6,
      "outputs": [
        {
          "output_type": "execute_result",
          "data": {
            "text/plain": [
              "3"
            ]
          },
          "metadata": {
            "tags": []
          },
          "execution_count": 6
        }
      ]
    },
    {
      "cell_type": "markdown",
      "metadata": {
        "id": "kFP-RrYY-2PE",
        "colab_type": "text"
      },
      "source": [
        "Q2. Add \"Plum\" fruit with quantity 15 in the dict. (1 mark)"
      ]
    },
    {
      "cell_type": "code",
      "metadata": {
        "id": "vdt5TKNf-2PG",
        "colab_type": "code",
        "colab": {
          "base_uri": "https://localhost:8080/",
          "height": 34
        },
        "outputId": "a758716f-7fce-4f14-c171-54e8209b79cd"
      },
      "source": [
        "### START CODE HERE : \n",
        "dict['Plum'] = 15\n",
        "dict\n",
        "### END CODE"
      ],
      "execution_count": 8,
      "outputs": [
        {
          "output_type": "execute_result",
          "data": {
            "text/plain": [
              "{'Apple': 7, 'Banana': 3, 'Kiwi': 10, 'Mangoes': 8, 'Oranges': 5, 'Plum': 15}"
            ]
          },
          "metadata": {
            "tags": []
          },
          "execution_count": 8
        }
      ]
    },
    {
      "cell_type": "markdown",
      "metadata": {
        "id": "UL8WYd3m-2PT",
        "colab_type": "text"
      },
      "source": [
        "Q3. Check if \"Banana\" is present in dict. (1 mark)"
      ]
    },
    {
      "cell_type": "code",
      "metadata": {
        "id": "ziBUyjG7-2PW",
        "colab_type": "code",
        "colab": {
          "base_uri": "https://localhost:8080/",
          "height": 34
        },
        "outputId": "60714b1b-30ff-4d1b-c9fd-79ea6698a35c"
      },
      "source": [
        "### START CODE HERE : \n",
        "if 'Banana' in dict:\n",
        "  print(True)\n",
        "### END CODE"
      ],
      "execution_count": 11,
      "outputs": [
        {
          "output_type": "stream",
          "text": [
            "True\n"
          ],
          "name": "stdout"
        }
      ]
    },
    {
      "cell_type": "markdown",
      "metadata": {
        "id": "plfL9MEJ-2Pg",
        "colab_type": "text"
      },
      "source": [
        "Q4. Delete \"Banana\" from dict. (1 mark)"
      ]
    },
    {
      "cell_type": "code",
      "metadata": {
        "id": "eDDEphUO-2Pi",
        "colab_type": "code",
        "colab": {
          "base_uri": "https://localhost:8080/",
          "height": 34
        },
        "outputId": "d15ed2f2-8239-4692-f2d5-0de1fd4ac6b8"
      },
      "source": [
        "### START CODE HERE : \n",
        "dict.pop('Banana')\n",
        "dict\n",
        "### END CODE"
      ],
      "execution_count": 12,
      "outputs": [
        {
          "output_type": "execute_result",
          "data": {
            "text/plain": [
              "{'Apple': 7, 'Kiwi': 10, 'Mangoes': 8, 'Oranges': 5, 'Plum': 15}"
            ]
          },
          "metadata": {
            "tags": []
          },
          "execution_count": 12
        }
      ]
    },
    {
      "cell_type": "markdown",
      "metadata": {
        "id": "Q2DHtAmG-2Px",
        "colab_type": "text"
      },
      "source": [
        "## Pandas"
      ]
    },
    {
      "cell_type": "code",
      "metadata": {
        "id": "SPilsylj-2P0",
        "colab_type": "code",
        "colab": {}
      },
      "source": [
        "df = {\n",
        "    \"Name\": [\"aparna\", \"pankaj\", \"sudhir\", \"Geeku\", \"Chiku\", \"Jeniffer\"], \n",
        "    \"Degree\": [\"Bsc\", \"Engineering\", \"Law\", \"MBBS\", \"Phd\", \"Nursing\"],\n",
        "    \"College\": [\"VIT\", \"IIT\", \"KIIT\", \"AIMS\", \"IIIT\", \"APPOLO\"],\n",
        "    \"Score\": [90, 70, 80, 98, 76, 89]} "
      ],
      "execution_count": 14,
      "outputs": []
    },
    {
      "cell_type": "code",
      "metadata": {
        "id": "R9DC8Tw6BjCA",
        "colab_type": "code",
        "colab": {}
      },
      "source": [
        "import pandas as pd"
      ],
      "execution_count": 15,
      "outputs": []
    },
    {
      "cell_type": "markdown",
      "metadata": {
        "id": "JMUP5ari-2QB",
        "colab_type": "text"
      },
      "source": [
        "Q1. Using pandas convert the above df into DataFrame and read it. (1 mark)"
      ]
    },
    {
      "cell_type": "code",
      "metadata": {
        "id": "4dlx9LBq-2QC",
        "colab_type": "code",
        "colab": {
          "base_uri": "https://localhost:8080/",
          "height": 227
        },
        "outputId": "1d89a8a5-006d-4ef5-dd38-8d3792f90361"
      },
      "source": [
        "### START CODE HERE : \n",
        "dataframe = pd.DataFrame(df)\n",
        "dataframe\n",
        "### END CODE"
      ],
      "execution_count": 16,
      "outputs": [
        {
          "output_type": "execute_result",
          "data": {
            "text/html": [
              "<div>\n",
              "<style scoped>\n",
              "    .dataframe tbody tr th:only-of-type {\n",
              "        vertical-align: middle;\n",
              "    }\n",
              "\n",
              "    .dataframe tbody tr th {\n",
              "        vertical-align: top;\n",
              "    }\n",
              "\n",
              "    .dataframe thead th {\n",
              "        text-align: right;\n",
              "    }\n",
              "</style>\n",
              "<table border=\"1\" class=\"dataframe\">\n",
              "  <thead>\n",
              "    <tr style=\"text-align: right;\">\n",
              "      <th></th>\n",
              "      <th>Name</th>\n",
              "      <th>Degree</th>\n",
              "      <th>College</th>\n",
              "      <th>Score</th>\n",
              "    </tr>\n",
              "  </thead>\n",
              "  <tbody>\n",
              "    <tr>\n",
              "      <th>0</th>\n",
              "      <td>aparna</td>\n",
              "      <td>Bsc</td>\n",
              "      <td>VIT</td>\n",
              "      <td>90</td>\n",
              "    </tr>\n",
              "    <tr>\n",
              "      <th>1</th>\n",
              "      <td>pankaj</td>\n",
              "      <td>Engineering</td>\n",
              "      <td>IIT</td>\n",
              "      <td>70</td>\n",
              "    </tr>\n",
              "    <tr>\n",
              "      <th>2</th>\n",
              "      <td>sudhir</td>\n",
              "      <td>Law</td>\n",
              "      <td>KIIT</td>\n",
              "      <td>80</td>\n",
              "    </tr>\n",
              "    <tr>\n",
              "      <th>3</th>\n",
              "      <td>Geeku</td>\n",
              "      <td>MBBS</td>\n",
              "      <td>AIMS</td>\n",
              "      <td>98</td>\n",
              "    </tr>\n",
              "    <tr>\n",
              "      <th>4</th>\n",
              "      <td>Chiku</td>\n",
              "      <td>Phd</td>\n",
              "      <td>IIIT</td>\n",
              "      <td>76</td>\n",
              "    </tr>\n",
              "    <tr>\n",
              "      <th>5</th>\n",
              "      <td>Jeniffer</td>\n",
              "      <td>Nursing</td>\n",
              "      <td>APPOLO</td>\n",
              "      <td>89</td>\n",
              "    </tr>\n",
              "  </tbody>\n",
              "</table>\n",
              "</div>"
            ],
            "text/plain": [
              "       Name       Degree College  Score\n",
              "0    aparna          Bsc     VIT     90\n",
              "1    pankaj  Engineering     IIT     70\n",
              "2    sudhir          Law    KIIT     80\n",
              "3     Geeku         MBBS    AIMS     98\n",
              "4     Chiku          Phd    IIIT     76\n",
              "5  Jeniffer      Nursing  APPOLO     89"
            ]
          },
          "metadata": {
            "tags": []
          },
          "execution_count": 16
        }
      ]
    },
    {
      "cell_type": "markdown",
      "metadata": {
        "id": "ulQnPAd9-2QR",
        "colab_type": "text"
      },
      "source": [
        "Q2. Change the index value to (\"B\", \"E\", \"L\", \"M\", \"P\", \"N\") respectively for the dict. (1 mark)"
      ]
    },
    {
      "cell_type": "code",
      "metadata": {
        "id": "dOSBbEyI-2QT",
        "colab_type": "code",
        "colab": {
          "base_uri": "https://localhost:8080/",
          "height": 227
        },
        "outputId": "5bc9a3ad-d1cd-46b5-b0fb-e434e00041e6"
      },
      "source": [
        "### START CODE HERE : \n",
        "dataframe = pd.DataFrame(data = df, index =[\"B\", \"E\", \"L\", \"M\", \"P\", \"N\"] )\n",
        "dataframe\n",
        "### END CODE"
      ],
      "execution_count": 17,
      "outputs": [
        {
          "output_type": "execute_result",
          "data": {
            "text/html": [
              "<div>\n",
              "<style scoped>\n",
              "    .dataframe tbody tr th:only-of-type {\n",
              "        vertical-align: middle;\n",
              "    }\n",
              "\n",
              "    .dataframe tbody tr th {\n",
              "        vertical-align: top;\n",
              "    }\n",
              "\n",
              "    .dataframe thead th {\n",
              "        text-align: right;\n",
              "    }\n",
              "</style>\n",
              "<table border=\"1\" class=\"dataframe\">\n",
              "  <thead>\n",
              "    <tr style=\"text-align: right;\">\n",
              "      <th></th>\n",
              "      <th>Name</th>\n",
              "      <th>Degree</th>\n",
              "      <th>College</th>\n",
              "      <th>Score</th>\n",
              "    </tr>\n",
              "  </thead>\n",
              "  <tbody>\n",
              "    <tr>\n",
              "      <th>B</th>\n",
              "      <td>aparna</td>\n",
              "      <td>Bsc</td>\n",
              "      <td>VIT</td>\n",
              "      <td>90</td>\n",
              "    </tr>\n",
              "    <tr>\n",
              "      <th>E</th>\n",
              "      <td>pankaj</td>\n",
              "      <td>Engineering</td>\n",
              "      <td>IIT</td>\n",
              "      <td>70</td>\n",
              "    </tr>\n",
              "    <tr>\n",
              "      <th>L</th>\n",
              "      <td>sudhir</td>\n",
              "      <td>Law</td>\n",
              "      <td>KIIT</td>\n",
              "      <td>80</td>\n",
              "    </tr>\n",
              "    <tr>\n",
              "      <th>M</th>\n",
              "      <td>Geeku</td>\n",
              "      <td>MBBS</td>\n",
              "      <td>AIMS</td>\n",
              "      <td>98</td>\n",
              "    </tr>\n",
              "    <tr>\n",
              "      <th>P</th>\n",
              "      <td>Chiku</td>\n",
              "      <td>Phd</td>\n",
              "      <td>IIIT</td>\n",
              "      <td>76</td>\n",
              "    </tr>\n",
              "    <tr>\n",
              "      <th>N</th>\n",
              "      <td>Jeniffer</td>\n",
              "      <td>Nursing</td>\n",
              "      <td>APPOLO</td>\n",
              "      <td>89</td>\n",
              "    </tr>\n",
              "  </tbody>\n",
              "</table>\n",
              "</div>"
            ],
            "text/plain": [
              "       Name       Degree College  Score\n",
              "B    aparna          Bsc     VIT     90\n",
              "E    pankaj  Engineering     IIT     70\n",
              "L    sudhir          Law    KIIT     80\n",
              "M     Geeku         MBBS    AIMS     98\n",
              "P     Chiku          Phd    IIIT     76\n",
              "N  Jeniffer      Nursing  APPOLO     89"
            ]
          },
          "metadata": {
            "tags": []
          },
          "execution_count": 17
        }
      ]
    },
    {
      "cell_type": "markdown",
      "metadata": {
        "id": "OL7Qcv8Q-2Qe",
        "colab_type": "text"
      },
      "source": [
        "Solve the following question for Column Access:\n",
        "    \n",
        "    a. Access the column Name. (1 mark)\n",
        "    \n",
        "    b. Find the type of the column Name (1 mark)\n",
        "    \n",
        "    c. Access two column (Name & Degree) at a time (1 mark)"
      ]
    },
    {
      "cell_type": "code",
      "metadata": {
        "id": "kPI9s_9c-2Qg",
        "colab_type": "code",
        "colab": {
          "base_uri": "https://localhost:8080/",
          "height": 34
        },
        "outputId": "32047c9e-896e-4d60-8cf7-808360d8368f"
      },
      "source": [
        "### a. START CODE HERE : \n",
        "col_names =  dataframe.columns\n",
        "col_names\n",
        "### END CODE"
      ],
      "execution_count": 18,
      "outputs": [
        {
          "output_type": "execute_result",
          "data": {
            "text/plain": [
              "Index(['Name', 'Degree', 'College', 'Score'], dtype='object')"
            ]
          },
          "metadata": {
            "tags": []
          },
          "execution_count": 18
        }
      ]
    },
    {
      "cell_type": "code",
      "metadata": {
        "id": "IkX6XJNR-2Qx",
        "colab_type": "code",
        "colab": {
          "base_uri": "https://localhost:8080/",
          "height": 34
        },
        "outputId": "447cc475-ad7e-4343-f506-29f5290ee99f"
      },
      "source": [
        "### b. START CODE HERE : \n",
        "type(col_names)\n",
        "### END CODE"
      ],
      "execution_count": 19,
      "outputs": [
        {
          "output_type": "execute_result",
          "data": {
            "text/plain": [
              "pandas.core.indexes.base.Index"
            ]
          },
          "metadata": {
            "tags": []
          },
          "execution_count": 19
        }
      ]
    },
    {
      "cell_type": "code",
      "metadata": {
        "id": "OnCUXxb4-2Q9",
        "colab_type": "code",
        "colab": {
          "base_uri": "https://localhost:8080/",
          "height": 34
        },
        "outputId": "491a1faa-e355-4e8d-ada0-bc4334a17d13"
      },
      "source": [
        "### c. START CODE HERE : \n",
        "col_name= dataframe.columns[0:2]\n",
        "col_name\n",
        "### END CODE"
      ],
      "execution_count": 21,
      "outputs": [
        {
          "output_type": "execute_result",
          "data": {
            "text/plain": [
              "Index(['Name', 'Degree'], dtype='object')"
            ]
          },
          "metadata": {
            "tags": []
          },
          "execution_count": 21
        }
      ]
    },
    {
      "cell_type": "markdown",
      "metadata": {
        "id": "L2brIKwb-2RJ",
        "colab_type": "text"
      },
      "source": [
        "Solve for Row Access:\n",
        "    \n",
        "    a. Access first three rows of dict. (1 mark)\n",
        "    \n",
        "    b. Access rows from second to fourth row. (1 mark)"
      ]
    },
    {
      "cell_type": "code",
      "metadata": {
        "id": "bJxg7DDM-2RM",
        "colab_type": "code",
        "colab": {
          "base_uri": "https://localhost:8080/",
          "height": 137
        },
        "outputId": "98ff1ae0-3f9a-446d-f417-9d08e50ad4bc"
      },
      "source": [
        "### a. START CODE HERE : \n",
        "rows = dataframe[0:3]\n",
        "rows\n",
        "### END CODE"
      ],
      "execution_count": 24,
      "outputs": [
        {
          "output_type": "execute_result",
          "data": {
            "text/html": [
              "<div>\n",
              "<style scoped>\n",
              "    .dataframe tbody tr th:only-of-type {\n",
              "        vertical-align: middle;\n",
              "    }\n",
              "\n",
              "    .dataframe tbody tr th {\n",
              "        vertical-align: top;\n",
              "    }\n",
              "\n",
              "    .dataframe thead th {\n",
              "        text-align: right;\n",
              "    }\n",
              "</style>\n",
              "<table border=\"1\" class=\"dataframe\">\n",
              "  <thead>\n",
              "    <tr style=\"text-align: right;\">\n",
              "      <th></th>\n",
              "      <th>Name</th>\n",
              "      <th>Degree</th>\n",
              "      <th>College</th>\n",
              "      <th>Score</th>\n",
              "    </tr>\n",
              "  </thead>\n",
              "  <tbody>\n",
              "    <tr>\n",
              "      <th>B</th>\n",
              "      <td>aparna</td>\n",
              "      <td>Bsc</td>\n",
              "      <td>VIT</td>\n",
              "      <td>90</td>\n",
              "    </tr>\n",
              "    <tr>\n",
              "      <th>E</th>\n",
              "      <td>pankaj</td>\n",
              "      <td>Engineering</td>\n",
              "      <td>IIT</td>\n",
              "      <td>70</td>\n",
              "    </tr>\n",
              "    <tr>\n",
              "      <th>L</th>\n",
              "      <td>sudhir</td>\n",
              "      <td>Law</td>\n",
              "      <td>KIIT</td>\n",
              "      <td>80</td>\n",
              "    </tr>\n",
              "  </tbody>\n",
              "</table>\n",
              "</div>"
            ],
            "text/plain": [
              "     Name       Degree College  Score\n",
              "B  aparna          Bsc     VIT     90\n",
              "E  pankaj  Engineering     IIT     70\n",
              "L  sudhir          Law    KIIT     80"
            ]
          },
          "metadata": {
            "tags": []
          },
          "execution_count": 24
        }
      ]
    },
    {
      "cell_type": "code",
      "metadata": {
        "id": "Xu74mpcg-2RZ",
        "colab_type": "code",
        "colab": {
          "base_uri": "https://localhost:8080/",
          "height": 137
        },
        "outputId": "9119c1e9-267b-4d38-ff9c-456f4d63fa4c"
      },
      "source": [
        "### b. START CODE HERE : \n",
        "rows = dataframe[1:4]\n",
        "rows\n",
        "### END CODE"
      ],
      "execution_count": 28,
      "outputs": [
        {
          "output_type": "execute_result",
          "data": {
            "text/html": [
              "<div>\n",
              "<style scoped>\n",
              "    .dataframe tbody tr th:only-of-type {\n",
              "        vertical-align: middle;\n",
              "    }\n",
              "\n",
              "    .dataframe tbody tr th {\n",
              "        vertical-align: top;\n",
              "    }\n",
              "\n",
              "    .dataframe thead th {\n",
              "        text-align: right;\n",
              "    }\n",
              "</style>\n",
              "<table border=\"1\" class=\"dataframe\">\n",
              "  <thead>\n",
              "    <tr style=\"text-align: right;\">\n",
              "      <th></th>\n",
              "      <th>Name</th>\n",
              "      <th>Degree</th>\n",
              "      <th>College</th>\n",
              "      <th>Score</th>\n",
              "    </tr>\n",
              "  </thead>\n",
              "  <tbody>\n",
              "    <tr>\n",
              "      <th>E</th>\n",
              "      <td>pankaj</td>\n",
              "      <td>Engineering</td>\n",
              "      <td>IIT</td>\n",
              "      <td>70</td>\n",
              "    </tr>\n",
              "    <tr>\n",
              "      <th>L</th>\n",
              "      <td>sudhir</td>\n",
              "      <td>Law</td>\n",
              "      <td>KIIT</td>\n",
              "      <td>80</td>\n",
              "    </tr>\n",
              "    <tr>\n",
              "      <th>M</th>\n",
              "      <td>Geeku</td>\n",
              "      <td>MBBS</td>\n",
              "      <td>AIMS</td>\n",
              "      <td>98</td>\n",
              "    </tr>\n",
              "  </tbody>\n",
              "</table>\n",
              "</div>"
            ],
            "text/plain": [
              "     Name       Degree College  Score\n",
              "E  pankaj  Engineering     IIT     70\n",
              "L  sudhir          Law    KIIT     80\n",
              "M   Geeku         MBBS    AIMS     98"
            ]
          },
          "metadata": {
            "tags": []
          },
          "execution_count": 28
        }
      ]
    },
    {
      "cell_type": "markdown",
      "metadata": {
        "id": "7JRvKGVJ-2Rj",
        "colab_type": "text"
      },
      "source": [
        "Use the **.loc** function to solve below questions:\n",
        "\n",
        "   Q1. Access the **B** row. (1 mark)\n",
        "\n",
        "   Q2. Access **B , M & L** row at once. (1 mark)\n",
        "\n",
        "   Q3. Access **B , M** row & **Name , Score** column. (1 mark)\n",
        "\n",
        "   Q4. Access all row with just **Name & Degree** column. (1 mark) "
      ]
    },
    {
      "cell_type": "code",
      "metadata": {
        "id": "F6-ax34v-2Rm",
        "colab_type": "code",
        "colab": {
          "base_uri": "https://localhost:8080/",
          "height": 105
        },
        "outputId": "357ce3ed-efcf-4681-fe04-51d726cf0520"
      },
      "source": [
        "### Q1. START CODE HERE : \n",
        "rowsloc = dataframe.loc['B']\n",
        "rowsloc\n",
        "### END CODE"
      ],
      "execution_count": 31,
      "outputs": [
        {
          "output_type": "execute_result",
          "data": {
            "text/plain": [
              "Name       aparna\n",
              "Degree        Bsc\n",
              "College       VIT\n",
              "Score          90\n",
              "Name: B, dtype: object"
            ]
          },
          "metadata": {
            "tags": []
          },
          "execution_count": 31
        }
      ]
    },
    {
      "cell_type": "code",
      "metadata": {
        "id": "jNPI8JUO-2Rz",
        "colab_type": "code",
        "colab": {
          "base_uri": "https://localhost:8080/",
          "height": 137
        },
        "outputId": "3e3c69db-02c4-48d3-e4ed-dd73f8ce461f"
      },
      "source": [
        "### Q2. START CODE HERE : \n",
        "rowsloc = dataframe.loc[['B','M','L']]\n",
        "rowsloc\n",
        "### END CODE"
      ],
      "execution_count": 33,
      "outputs": [
        {
          "output_type": "execute_result",
          "data": {
            "text/html": [
              "<div>\n",
              "<style scoped>\n",
              "    .dataframe tbody tr th:only-of-type {\n",
              "        vertical-align: middle;\n",
              "    }\n",
              "\n",
              "    .dataframe tbody tr th {\n",
              "        vertical-align: top;\n",
              "    }\n",
              "\n",
              "    .dataframe thead th {\n",
              "        text-align: right;\n",
              "    }\n",
              "</style>\n",
              "<table border=\"1\" class=\"dataframe\">\n",
              "  <thead>\n",
              "    <tr style=\"text-align: right;\">\n",
              "      <th></th>\n",
              "      <th>Name</th>\n",
              "      <th>Degree</th>\n",
              "      <th>College</th>\n",
              "      <th>Score</th>\n",
              "    </tr>\n",
              "  </thead>\n",
              "  <tbody>\n",
              "    <tr>\n",
              "      <th>B</th>\n",
              "      <td>aparna</td>\n",
              "      <td>Bsc</td>\n",
              "      <td>VIT</td>\n",
              "      <td>90</td>\n",
              "    </tr>\n",
              "    <tr>\n",
              "      <th>M</th>\n",
              "      <td>Geeku</td>\n",
              "      <td>MBBS</td>\n",
              "      <td>AIMS</td>\n",
              "      <td>98</td>\n",
              "    </tr>\n",
              "    <tr>\n",
              "      <th>L</th>\n",
              "      <td>sudhir</td>\n",
              "      <td>Law</td>\n",
              "      <td>KIIT</td>\n",
              "      <td>80</td>\n",
              "    </tr>\n",
              "  </tbody>\n",
              "</table>\n",
              "</div>"
            ],
            "text/plain": [
              "     Name Degree College  Score\n",
              "B  aparna    Bsc     VIT     90\n",
              "M   Geeku   MBBS    AIMS     98\n",
              "L  sudhir    Law    KIIT     80"
            ]
          },
          "metadata": {
            "tags": []
          },
          "execution_count": 33
        }
      ]
    },
    {
      "cell_type": "code",
      "metadata": {
        "id": "aHeo0cSZ-2SC",
        "colab_type": "code",
        "colab": {
          "base_uri": "https://localhost:8080/",
          "height": 107
        },
        "outputId": "f5892cf6-b3eb-4b62-ce8b-d046c31e3efb"
      },
      "source": [
        "### Q3. START CODE HERE : \n",
        "rowsloc = dataframe.loc[['B','M'], ['Name', 'Score']]\n",
        "rowsloc\n",
        "### END CODE"
      ],
      "execution_count": 38,
      "outputs": [
        {
          "output_type": "execute_result",
          "data": {
            "text/html": [
              "<div>\n",
              "<style scoped>\n",
              "    .dataframe tbody tr th:only-of-type {\n",
              "        vertical-align: middle;\n",
              "    }\n",
              "\n",
              "    .dataframe tbody tr th {\n",
              "        vertical-align: top;\n",
              "    }\n",
              "\n",
              "    .dataframe thead th {\n",
              "        text-align: right;\n",
              "    }\n",
              "</style>\n",
              "<table border=\"1\" class=\"dataframe\">\n",
              "  <thead>\n",
              "    <tr style=\"text-align: right;\">\n",
              "      <th></th>\n",
              "      <th>Name</th>\n",
              "      <th>Score</th>\n",
              "    </tr>\n",
              "  </thead>\n",
              "  <tbody>\n",
              "    <tr>\n",
              "      <th>B</th>\n",
              "      <td>aparna</td>\n",
              "      <td>90</td>\n",
              "    </tr>\n",
              "    <tr>\n",
              "      <th>M</th>\n",
              "      <td>Geeku</td>\n",
              "      <td>98</td>\n",
              "    </tr>\n",
              "  </tbody>\n",
              "</table>\n",
              "</div>"
            ],
            "text/plain": [
              "     Name  Score\n",
              "B  aparna     90\n",
              "M   Geeku     98"
            ]
          },
          "metadata": {
            "tags": []
          },
          "execution_count": 38
        }
      ]
    },
    {
      "cell_type": "code",
      "metadata": {
        "id": "F1_XetiN-2SK",
        "colab_type": "code",
        "colab": {
          "base_uri": "https://localhost:8080/",
          "height": 227
        },
        "outputId": "ace531f8-6bda-4234-9ca3-715677279be5"
      },
      "source": [
        "### Q4. START CODE HERE : \n",
        "rowsloc = dataframe.loc['B':'N', ['Name', 'Degree']]\n",
        "rowsloc\n",
        "### END CODE"
      ],
      "execution_count": 40,
      "outputs": [
        {
          "output_type": "execute_result",
          "data": {
            "text/html": [
              "<div>\n",
              "<style scoped>\n",
              "    .dataframe tbody tr th:only-of-type {\n",
              "        vertical-align: middle;\n",
              "    }\n",
              "\n",
              "    .dataframe tbody tr th {\n",
              "        vertical-align: top;\n",
              "    }\n",
              "\n",
              "    .dataframe thead th {\n",
              "        text-align: right;\n",
              "    }\n",
              "</style>\n",
              "<table border=\"1\" class=\"dataframe\">\n",
              "  <thead>\n",
              "    <tr style=\"text-align: right;\">\n",
              "      <th></th>\n",
              "      <th>Name</th>\n",
              "      <th>Degree</th>\n",
              "    </tr>\n",
              "  </thead>\n",
              "  <tbody>\n",
              "    <tr>\n",
              "      <th>B</th>\n",
              "      <td>aparna</td>\n",
              "      <td>Bsc</td>\n",
              "    </tr>\n",
              "    <tr>\n",
              "      <th>E</th>\n",
              "      <td>pankaj</td>\n",
              "      <td>Engineering</td>\n",
              "    </tr>\n",
              "    <tr>\n",
              "      <th>L</th>\n",
              "      <td>sudhir</td>\n",
              "      <td>Law</td>\n",
              "    </tr>\n",
              "    <tr>\n",
              "      <th>M</th>\n",
              "      <td>Geeku</td>\n",
              "      <td>MBBS</td>\n",
              "    </tr>\n",
              "    <tr>\n",
              "      <th>P</th>\n",
              "      <td>Chiku</td>\n",
              "      <td>Phd</td>\n",
              "    </tr>\n",
              "    <tr>\n",
              "      <th>N</th>\n",
              "      <td>Jeniffer</td>\n",
              "      <td>Nursing</td>\n",
              "    </tr>\n",
              "  </tbody>\n",
              "</table>\n",
              "</div>"
            ],
            "text/plain": [
              "       Name       Degree\n",
              "B    aparna          Bsc\n",
              "E    pankaj  Engineering\n",
              "L    sudhir          Law\n",
              "M     Geeku         MBBS\n",
              "P     Chiku          Phd\n",
              "N  Jeniffer      Nursing"
            ]
          },
          "metadata": {
            "tags": []
          },
          "execution_count": 40
        }
      ]
    },
    {
      "cell_type": "markdown",
      "metadata": {
        "id": "7mfWZM-D-2SU",
        "colab_type": "text"
      },
      "source": [
        "Use .iloc function to solve the following questions:\n",
        "\n",
        "Q1. Access the 3rd row. (1 mark)\n",
        "\n",
        "Q2. Access the first 3 row. (1 mark)\n",
        "\n",
        "Q3. Access first 3 row and first 3 column.(1 mark)\n",
        "\n",
        "Q4. Access all row with name & Degree column. (1 mark)  "
      ]
    },
    {
      "cell_type": "code",
      "metadata": {
        "id": "uAu3HQD0-2SW",
        "colab_type": "code",
        "colab": {
          "base_uri": "https://localhost:8080/",
          "height": 105
        },
        "outputId": "920ad956-2fb3-4088-8120-cbed1cea4c46"
      },
      "source": [
        "### Q1. START CODE HERE : \n",
        "rowsiloc = dataframe.iloc[4]\n",
        "rowsiloc\n",
        "### END CODE"
      ],
      "execution_count": 44,
      "outputs": [
        {
          "output_type": "execute_result",
          "data": {
            "text/plain": [
              "Name       Chiku\n",
              "Degree       Phd\n",
              "College     IIIT\n",
              "Score         76\n",
              "Name: P, dtype: object"
            ]
          },
          "metadata": {
            "tags": []
          },
          "execution_count": 44
        }
      ]
    },
    {
      "cell_type": "code",
      "metadata": {
        "id": "NKMAswAY-2Sf",
        "colab_type": "code",
        "colab": {
          "base_uri": "https://localhost:8080/",
          "height": 167
        },
        "outputId": "83030ab9-b479-4eb3-8e37-7f6858cffe96"
      },
      "source": [
        "### Q2. START CODE HERE : \n",
        "rowsiloc = dataframe.iloc[0:4]\n",
        "rowsiloc\n",
        "### END CODE"
      ],
      "execution_count": 45,
      "outputs": [
        {
          "output_type": "execute_result",
          "data": {
            "text/html": [
              "<div>\n",
              "<style scoped>\n",
              "    .dataframe tbody tr th:only-of-type {\n",
              "        vertical-align: middle;\n",
              "    }\n",
              "\n",
              "    .dataframe tbody tr th {\n",
              "        vertical-align: top;\n",
              "    }\n",
              "\n",
              "    .dataframe thead th {\n",
              "        text-align: right;\n",
              "    }\n",
              "</style>\n",
              "<table border=\"1\" class=\"dataframe\">\n",
              "  <thead>\n",
              "    <tr style=\"text-align: right;\">\n",
              "      <th></th>\n",
              "      <th>Name</th>\n",
              "      <th>Degree</th>\n",
              "      <th>College</th>\n",
              "      <th>Score</th>\n",
              "    </tr>\n",
              "  </thead>\n",
              "  <tbody>\n",
              "    <tr>\n",
              "      <th>B</th>\n",
              "      <td>aparna</td>\n",
              "      <td>Bsc</td>\n",
              "      <td>VIT</td>\n",
              "      <td>90</td>\n",
              "    </tr>\n",
              "    <tr>\n",
              "      <th>E</th>\n",
              "      <td>pankaj</td>\n",
              "      <td>Engineering</td>\n",
              "      <td>IIT</td>\n",
              "      <td>70</td>\n",
              "    </tr>\n",
              "    <tr>\n",
              "      <th>L</th>\n",
              "      <td>sudhir</td>\n",
              "      <td>Law</td>\n",
              "      <td>KIIT</td>\n",
              "      <td>80</td>\n",
              "    </tr>\n",
              "    <tr>\n",
              "      <th>M</th>\n",
              "      <td>Geeku</td>\n",
              "      <td>MBBS</td>\n",
              "      <td>AIMS</td>\n",
              "      <td>98</td>\n",
              "    </tr>\n",
              "  </tbody>\n",
              "</table>\n",
              "</div>"
            ],
            "text/plain": [
              "     Name       Degree College  Score\n",
              "B  aparna          Bsc     VIT     90\n",
              "E  pankaj  Engineering     IIT     70\n",
              "L  sudhir          Law    KIIT     80\n",
              "M   Geeku         MBBS    AIMS     98"
            ]
          },
          "metadata": {
            "tags": []
          },
          "execution_count": 45
        }
      ]
    },
    {
      "cell_type": "code",
      "metadata": {
        "id": "f1VCfLjX-2Sq",
        "colab_type": "code",
        "colab": {
          "base_uri": "https://localhost:8080/",
          "height": 167
        },
        "outputId": "cce373f6-3fe7-42cf-d20d-d634b84d248b"
      },
      "source": [
        "### Q3. START CODE HERE : \n",
        "rowsiloc = dataframe.iloc[0:4, 0:3]\n",
        "rowsiloc\n",
        "### END CODE"
      ],
      "execution_count": 48,
      "outputs": [
        {
          "output_type": "execute_result",
          "data": {
            "text/html": [
              "<div>\n",
              "<style scoped>\n",
              "    .dataframe tbody tr th:only-of-type {\n",
              "        vertical-align: middle;\n",
              "    }\n",
              "\n",
              "    .dataframe tbody tr th {\n",
              "        vertical-align: top;\n",
              "    }\n",
              "\n",
              "    .dataframe thead th {\n",
              "        text-align: right;\n",
              "    }\n",
              "</style>\n",
              "<table border=\"1\" class=\"dataframe\">\n",
              "  <thead>\n",
              "    <tr style=\"text-align: right;\">\n",
              "      <th></th>\n",
              "      <th>Name</th>\n",
              "      <th>Degree</th>\n",
              "      <th>College</th>\n",
              "    </tr>\n",
              "  </thead>\n",
              "  <tbody>\n",
              "    <tr>\n",
              "      <th>B</th>\n",
              "      <td>aparna</td>\n",
              "      <td>Bsc</td>\n",
              "      <td>VIT</td>\n",
              "    </tr>\n",
              "    <tr>\n",
              "      <th>E</th>\n",
              "      <td>pankaj</td>\n",
              "      <td>Engineering</td>\n",
              "      <td>IIT</td>\n",
              "    </tr>\n",
              "    <tr>\n",
              "      <th>L</th>\n",
              "      <td>sudhir</td>\n",
              "      <td>Law</td>\n",
              "      <td>KIIT</td>\n",
              "    </tr>\n",
              "    <tr>\n",
              "      <th>M</th>\n",
              "      <td>Geeku</td>\n",
              "      <td>MBBS</td>\n",
              "      <td>AIMS</td>\n",
              "    </tr>\n",
              "  </tbody>\n",
              "</table>\n",
              "</div>"
            ],
            "text/plain": [
              "     Name       Degree College\n",
              "B  aparna          Bsc     VIT\n",
              "E  pankaj  Engineering     IIT\n",
              "L  sudhir          Law    KIIT\n",
              "M   Geeku         MBBS    AIMS"
            ]
          },
          "metadata": {
            "tags": []
          },
          "execution_count": 48
        }
      ]
    },
    {
      "cell_type": "code",
      "metadata": {
        "id": "xfVDZLQC-2S0",
        "colab_type": "code",
        "colab": {
          "base_uri": "https://localhost:8080/",
          "height": 227
        },
        "outputId": "822e073f-cb81-4102-c68d-e6f5ee081c21"
      },
      "source": [
        "### Q4. START CODE HERE : \n",
        "rowsiloc = dataframe.iloc[:,0:2]\n",
        "rowsiloc\n",
        "### END CODE"
      ],
      "execution_count": 49,
      "outputs": [
        {
          "output_type": "execute_result",
          "data": {
            "text/html": [
              "<div>\n",
              "<style scoped>\n",
              "    .dataframe tbody tr th:only-of-type {\n",
              "        vertical-align: middle;\n",
              "    }\n",
              "\n",
              "    .dataframe tbody tr th {\n",
              "        vertical-align: top;\n",
              "    }\n",
              "\n",
              "    .dataframe thead th {\n",
              "        text-align: right;\n",
              "    }\n",
              "</style>\n",
              "<table border=\"1\" class=\"dataframe\">\n",
              "  <thead>\n",
              "    <tr style=\"text-align: right;\">\n",
              "      <th></th>\n",
              "      <th>Name</th>\n",
              "      <th>Degree</th>\n",
              "    </tr>\n",
              "  </thead>\n",
              "  <tbody>\n",
              "    <tr>\n",
              "      <th>B</th>\n",
              "      <td>aparna</td>\n",
              "      <td>Bsc</td>\n",
              "    </tr>\n",
              "    <tr>\n",
              "      <th>E</th>\n",
              "      <td>pankaj</td>\n",
              "      <td>Engineering</td>\n",
              "    </tr>\n",
              "    <tr>\n",
              "      <th>L</th>\n",
              "      <td>sudhir</td>\n",
              "      <td>Law</td>\n",
              "    </tr>\n",
              "    <tr>\n",
              "      <th>M</th>\n",
              "      <td>Geeku</td>\n",
              "      <td>MBBS</td>\n",
              "    </tr>\n",
              "    <tr>\n",
              "      <th>P</th>\n",
              "      <td>Chiku</td>\n",
              "      <td>Phd</td>\n",
              "    </tr>\n",
              "    <tr>\n",
              "      <th>N</th>\n",
              "      <td>Jeniffer</td>\n",
              "      <td>Nursing</td>\n",
              "    </tr>\n",
              "  </tbody>\n",
              "</table>\n",
              "</div>"
            ],
            "text/plain": [
              "       Name       Degree\n",
              "B    aparna          Bsc\n",
              "E    pankaj  Engineering\n",
              "L    sudhir          Law\n",
              "M     Geeku         MBBS\n",
              "P     Chiku          Phd\n",
              "N  Jeniffer      Nursing"
            ]
          },
          "metadata": {
            "tags": []
          },
          "execution_count": 49
        }
      ]
    }
  ]
}